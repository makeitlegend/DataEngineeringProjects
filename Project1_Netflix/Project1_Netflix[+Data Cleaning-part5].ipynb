{
  "nbformat": 4,
  "nbformat_minor": 0,
  "metadata": {
    "colab": {
      "provenance": []
    },
    "kernelspec": {
      "name": "python3",
      "display_name": "Python 3"
    },
    "language_info": {
      "name": "python"
    }
  },
  "cells": [
    {
      "cell_type": "markdown",
      "source": [
        "#Netflix Movies and TV Shows"
      ],
      "metadata": {
        "id": "HY0IKjnLZcaA"
      }
    },
    {
      "cell_type": "code",
      "execution_count": 1,
      "metadata": {
        "id": "a9aiyh26oSxl"
      },
      "outputs": [],
      "source": [
        "import pandas as pd\n",
        "import numpy as np"
      ]
    },
    {
      "cell_type": "markdown",
      "source": [
        "##Data Exploration"
      ],
      "metadata": {
        "id": "KOE7DrLKZhyA"
      }
    },
    {
      "cell_type": "code",
      "source": [
        "df_netflix = pd.read_csv(\"/content/netflix_titles.csv\")"
      ],
      "metadata": {
        "id": "gigTXUPmXCP2"
      },
      "execution_count": 2,
      "outputs": []
    },
    {
      "cell_type": "code",
      "source": [
        "df_netflix.info()"
      ],
      "metadata": {
        "colab": {
          "base_uri": "https://localhost:8080/"
        },
        "id": "rydMUStsXPCQ",
        "outputId": "ad20e139-61a3-405f-837b-6b142fa3e22b"
      },
      "execution_count": 3,
      "outputs": [
        {
          "output_type": "stream",
          "name": "stdout",
          "text": [
            "<class 'pandas.core.frame.DataFrame'>\n",
            "RangeIndex: 8807 entries, 0 to 8806\n",
            "Data columns (total 12 columns):\n",
            " #   Column        Non-Null Count  Dtype \n",
            "---  ------        --------------  ----- \n",
            " 0   show_id       8807 non-null   object\n",
            " 1   type          8807 non-null   object\n",
            " 2   title         8807 non-null   object\n",
            " 3   director      6173 non-null   object\n",
            " 4   cast          7982 non-null   object\n",
            " 5   country       7976 non-null   object\n",
            " 6   date_added    8797 non-null   object\n",
            " 7   release_year  8807 non-null   int64 \n",
            " 8   rating        8803 non-null   object\n",
            " 9   duration      8804 non-null   object\n",
            " 10  listed_in     8807 non-null   object\n",
            " 11  description   8807 non-null   object\n",
            "dtypes: int64(1), object(11)\n",
            "memory usage: 825.8+ KB\n"
          ]
        }
      ]
    },
    {
      "cell_type": "code",
      "source": [
        "df_netflix.describe()"
      ],
      "metadata": {
        "colab": {
          "base_uri": "https://localhost:8080/",
          "height": 300
        },
        "collapsed": true,
        "id": "yjvH-COAXYou",
        "outputId": "a2ab2acb-2964-4cfe-b694-e6d23f363994"
      },
      "execution_count": 4,
      "outputs": [
        {
          "output_type": "execute_result",
          "data": {
            "text/plain": [
              "       release_year\n",
              "count   8807.000000\n",
              "mean    2014.180198\n",
              "std        8.819312\n",
              "min     1925.000000\n",
              "25%     2013.000000\n",
              "50%     2017.000000\n",
              "75%     2019.000000\n",
              "max     2021.000000"
            ],
            "text/html": [
              "\n",
              "  <div id=\"df-5faa6b5f-a8fe-4016-8d48-befe73962084\" class=\"colab-df-container\">\n",
              "    <div>\n",
              "<style scoped>\n",
              "    .dataframe tbody tr th:only-of-type {\n",
              "        vertical-align: middle;\n",
              "    }\n",
              "\n",
              "    .dataframe tbody tr th {\n",
              "        vertical-align: top;\n",
              "    }\n",
              "\n",
              "    .dataframe thead th {\n",
              "        text-align: right;\n",
              "    }\n",
              "</style>\n",
              "<table border=\"1\" class=\"dataframe\">\n",
              "  <thead>\n",
              "    <tr style=\"text-align: right;\">\n",
              "      <th></th>\n",
              "      <th>release_year</th>\n",
              "    </tr>\n",
              "  </thead>\n",
              "  <tbody>\n",
              "    <tr>\n",
              "      <th>count</th>\n",
              "      <td>8807.000000</td>\n",
              "    </tr>\n",
              "    <tr>\n",
              "      <th>mean</th>\n",
              "      <td>2014.180198</td>\n",
              "    </tr>\n",
              "    <tr>\n",
              "      <th>std</th>\n",
              "      <td>8.819312</td>\n",
              "    </tr>\n",
              "    <tr>\n",
              "      <th>min</th>\n",
              "      <td>1925.000000</td>\n",
              "    </tr>\n",
              "    <tr>\n",
              "      <th>25%</th>\n",
              "      <td>2013.000000</td>\n",
              "    </tr>\n",
              "    <tr>\n",
              "      <th>50%</th>\n",
              "      <td>2017.000000</td>\n",
              "    </tr>\n",
              "    <tr>\n",
              "      <th>75%</th>\n",
              "      <td>2019.000000</td>\n",
              "    </tr>\n",
              "    <tr>\n",
              "      <th>max</th>\n",
              "      <td>2021.000000</td>\n",
              "    </tr>\n",
              "  </tbody>\n",
              "</table>\n",
              "</div>\n",
              "    <div class=\"colab-df-buttons\">\n",
              "\n",
              "  <div class=\"colab-df-container\">\n",
              "    <button class=\"colab-df-convert\" onclick=\"convertToInteractive('df-5faa6b5f-a8fe-4016-8d48-befe73962084')\"\n",
              "            title=\"Convert this dataframe to an interactive table.\"\n",
              "            style=\"display:none;\">\n",
              "\n",
              "  <svg xmlns=\"http://www.w3.org/2000/svg\" height=\"24px\" viewBox=\"0 -960 960 960\">\n",
              "    <path d=\"M120-120v-720h720v720H120Zm60-500h600v-160H180v160Zm220 220h160v-160H400v160Zm0 220h160v-160H400v160ZM180-400h160v-160H180v160Zm440 0h160v-160H620v160ZM180-180h160v-160H180v160Zm440 0h160v-160H620v160Z\"/>\n",
              "  </svg>\n",
              "    </button>\n",
              "\n",
              "  <style>\n",
              "    .colab-df-container {\n",
              "      display:flex;\n",
              "      gap: 12px;\n",
              "    }\n",
              "\n",
              "    .colab-df-convert {\n",
              "      background-color: #E8F0FE;\n",
              "      border: none;\n",
              "      border-radius: 50%;\n",
              "      cursor: pointer;\n",
              "      display: none;\n",
              "      fill: #1967D2;\n",
              "      height: 32px;\n",
              "      padding: 0 0 0 0;\n",
              "      width: 32px;\n",
              "    }\n",
              "\n",
              "    .colab-df-convert:hover {\n",
              "      background-color: #E2EBFA;\n",
              "      box-shadow: 0px 1px 2px rgba(60, 64, 67, 0.3), 0px 1px 3px 1px rgba(60, 64, 67, 0.15);\n",
              "      fill: #174EA6;\n",
              "    }\n",
              "\n",
              "    .colab-df-buttons div {\n",
              "      margin-bottom: 4px;\n",
              "    }\n",
              "\n",
              "    [theme=dark] .colab-df-convert {\n",
              "      background-color: #3B4455;\n",
              "      fill: #D2E3FC;\n",
              "    }\n",
              "\n",
              "    [theme=dark] .colab-df-convert:hover {\n",
              "      background-color: #434B5C;\n",
              "      box-shadow: 0px 1px 3px 1px rgba(0, 0, 0, 0.15);\n",
              "      filter: drop-shadow(0px 1px 2px rgba(0, 0, 0, 0.3));\n",
              "      fill: #FFFFFF;\n",
              "    }\n",
              "  </style>\n",
              "\n",
              "    <script>\n",
              "      const buttonEl =\n",
              "        document.querySelector('#df-5faa6b5f-a8fe-4016-8d48-befe73962084 button.colab-df-convert');\n",
              "      buttonEl.style.display =\n",
              "        google.colab.kernel.accessAllowed ? 'block' : 'none';\n",
              "\n",
              "      async function convertToInteractive(key) {\n",
              "        const element = document.querySelector('#df-5faa6b5f-a8fe-4016-8d48-befe73962084');\n",
              "        const dataTable =\n",
              "          await google.colab.kernel.invokeFunction('convertToInteractive',\n",
              "                                                    [key], {});\n",
              "        if (!dataTable) return;\n",
              "\n",
              "        const docLinkHtml = 'Like what you see? Visit the ' +\n",
              "          '<a target=\"_blank\" href=https://colab.research.google.com/notebooks/data_table.ipynb>data table notebook</a>'\n",
              "          + ' to learn more about interactive tables.';\n",
              "        element.innerHTML = '';\n",
              "        dataTable['output_type'] = 'display_data';\n",
              "        await google.colab.output.renderOutput(dataTable, element);\n",
              "        const docLink = document.createElement('div');\n",
              "        docLink.innerHTML = docLinkHtml;\n",
              "        element.appendChild(docLink);\n",
              "      }\n",
              "    </script>\n",
              "  </div>\n",
              "\n",
              "\n",
              "    <div id=\"df-44bd4ded-7204-4d29-9d00-15ddedad5b26\">\n",
              "      <button class=\"colab-df-quickchart\" onclick=\"quickchart('df-44bd4ded-7204-4d29-9d00-15ddedad5b26')\"\n",
              "                title=\"Suggest charts\"\n",
              "                style=\"display:none;\">\n",
              "\n",
              "<svg xmlns=\"http://www.w3.org/2000/svg\" height=\"24px\"viewBox=\"0 0 24 24\"\n",
              "     width=\"24px\">\n",
              "    <g>\n",
              "        <path d=\"M19 3H5c-1.1 0-2 .9-2 2v14c0 1.1.9 2 2 2h14c1.1 0 2-.9 2-2V5c0-1.1-.9-2-2-2zM9 17H7v-7h2v7zm4 0h-2V7h2v10zm4 0h-2v-4h2v4z\"/>\n",
              "    </g>\n",
              "</svg>\n",
              "      </button>\n",
              "\n",
              "<style>\n",
              "  .colab-df-quickchart {\n",
              "      --bg-color: #E8F0FE;\n",
              "      --fill-color: #1967D2;\n",
              "      --hover-bg-color: #E2EBFA;\n",
              "      --hover-fill-color: #174EA6;\n",
              "      --disabled-fill-color: #AAA;\n",
              "      --disabled-bg-color: #DDD;\n",
              "  }\n",
              "\n",
              "  [theme=dark] .colab-df-quickchart {\n",
              "      --bg-color: #3B4455;\n",
              "      --fill-color: #D2E3FC;\n",
              "      --hover-bg-color: #434B5C;\n",
              "      --hover-fill-color: #FFFFFF;\n",
              "      --disabled-bg-color: #3B4455;\n",
              "      --disabled-fill-color: #666;\n",
              "  }\n",
              "\n",
              "  .colab-df-quickchart {\n",
              "    background-color: var(--bg-color);\n",
              "    border: none;\n",
              "    border-radius: 50%;\n",
              "    cursor: pointer;\n",
              "    display: none;\n",
              "    fill: var(--fill-color);\n",
              "    height: 32px;\n",
              "    padding: 0;\n",
              "    width: 32px;\n",
              "  }\n",
              "\n",
              "  .colab-df-quickchart:hover {\n",
              "    background-color: var(--hover-bg-color);\n",
              "    box-shadow: 0 1px 2px rgba(60, 64, 67, 0.3), 0 1px 3px 1px rgba(60, 64, 67, 0.15);\n",
              "    fill: var(--button-hover-fill-color);\n",
              "  }\n",
              "\n",
              "  .colab-df-quickchart-complete:disabled,\n",
              "  .colab-df-quickchart-complete:disabled:hover {\n",
              "    background-color: var(--disabled-bg-color);\n",
              "    fill: var(--disabled-fill-color);\n",
              "    box-shadow: none;\n",
              "  }\n",
              "\n",
              "  .colab-df-spinner {\n",
              "    border: 2px solid var(--fill-color);\n",
              "    border-color: transparent;\n",
              "    border-bottom-color: var(--fill-color);\n",
              "    animation:\n",
              "      spin 1s steps(1) infinite;\n",
              "  }\n",
              "\n",
              "  @keyframes spin {\n",
              "    0% {\n",
              "      border-color: transparent;\n",
              "      border-bottom-color: var(--fill-color);\n",
              "      border-left-color: var(--fill-color);\n",
              "    }\n",
              "    20% {\n",
              "      border-color: transparent;\n",
              "      border-left-color: var(--fill-color);\n",
              "      border-top-color: var(--fill-color);\n",
              "    }\n",
              "    30% {\n",
              "      border-color: transparent;\n",
              "      border-left-color: var(--fill-color);\n",
              "      border-top-color: var(--fill-color);\n",
              "      border-right-color: var(--fill-color);\n",
              "    }\n",
              "    40% {\n",
              "      border-color: transparent;\n",
              "      border-right-color: var(--fill-color);\n",
              "      border-top-color: var(--fill-color);\n",
              "    }\n",
              "    60% {\n",
              "      border-color: transparent;\n",
              "      border-right-color: var(--fill-color);\n",
              "    }\n",
              "    80% {\n",
              "      border-color: transparent;\n",
              "      border-right-color: var(--fill-color);\n",
              "      border-bottom-color: var(--fill-color);\n",
              "    }\n",
              "    90% {\n",
              "      border-color: transparent;\n",
              "      border-bottom-color: var(--fill-color);\n",
              "    }\n",
              "  }\n",
              "</style>\n",
              "\n",
              "      <script>\n",
              "        async function quickchart(key) {\n",
              "          const quickchartButtonEl =\n",
              "            document.querySelector('#' + key + ' button');\n",
              "          quickchartButtonEl.disabled = true;  // To prevent multiple clicks.\n",
              "          quickchartButtonEl.classList.add('colab-df-spinner');\n",
              "          try {\n",
              "            const charts = await google.colab.kernel.invokeFunction(\n",
              "                'suggestCharts', [key], {});\n",
              "          } catch (error) {\n",
              "            console.error('Error during call to suggestCharts:', error);\n",
              "          }\n",
              "          quickchartButtonEl.classList.remove('colab-df-spinner');\n",
              "          quickchartButtonEl.classList.add('colab-df-quickchart-complete');\n",
              "        }\n",
              "        (() => {\n",
              "          let quickchartButtonEl =\n",
              "            document.querySelector('#df-44bd4ded-7204-4d29-9d00-15ddedad5b26 button');\n",
              "          quickchartButtonEl.style.display =\n",
              "            google.colab.kernel.accessAllowed ? 'block' : 'none';\n",
              "        })();\n",
              "      </script>\n",
              "    </div>\n",
              "\n",
              "    </div>\n",
              "  </div>\n"
            ],
            "application/vnd.google.colaboratory.intrinsic+json": {
              "type": "dataframe",
              "summary": "{\n  \"name\": \"df_netflix\",\n  \"rows\": 8,\n  \"fields\": [\n    {\n      \"column\": \"release_year\",\n      \"properties\": {\n        \"dtype\": \"number\",\n        \"std\": 2602.1161189684894,\n        \"min\": 8.819312130834057,\n        \"max\": 8807.0,\n        \"num_unique_values\": 8,\n        \"samples\": [\n          2014.1801975701146,\n          2017.0,\n          8807.0\n        ],\n        \"semantic_type\": \"\",\n        \"description\": \"\"\n      }\n    }\n  ]\n}"
            }
          },
          "metadata": {},
          "execution_count": 4
        }
      ]
    },
    {
      "cell_type": "code",
      "source": [
        "#show_id column\n",
        "missing_values_df_netflix_show_id = df_netflix['show_id'].isna().sum()\n",
        "duplicated_values_df_netflix_show_id = df_netflix['show_id'].duplicated().sum()\n",
        "total_values_df_netflix_show_id = df_netflix['show_id'].count()\n",
        "\n",
        "print(f'Missing values-show_id column: {missing_values_df_netflix_show_id}')\n",
        "print(f'Duplicated values-show_id column: {duplicated_values_df_netflix_show_id}')\n",
        "print(f'Total values-show_id column: {total_values_df_netflix_show_id}')"
      ],
      "metadata": {
        "colab": {
          "base_uri": "https://localhost:8080/"
        },
        "id": "oxQzYGx-X7sP",
        "outputId": "f7969bf5-35f7-45c7-8b84-2675accd1843"
      },
      "execution_count": 5,
      "outputs": [
        {
          "output_type": "stream",
          "name": "stdout",
          "text": [
            "Missing values-show_id column: 0\n",
            "Duplicated values-show_id column: 0\n",
            "Total values-show_id column: 8807\n"
          ]
        }
      ]
    },
    {
      "cell_type": "code",
      "source": [
        "#type column\n",
        "missing_values_df_netflix_type = df_netflix['type'].isna().sum()\n",
        "duplicated_values_df_netflix_type = df_netflix['type'].duplicated().sum()\n",
        "total_values_df_netflix_type = df_netflix['type'].count()\n",
        "\n",
        "print(f'Missing values-type column: {missing_values_df_netflix_type}')\n",
        "print(f'Duplicated values-type column: {duplicated_values_df_netflix_type}')\n",
        "print(f'Total values-type column: {total_values_df_netflix_type}')"
      ],
      "metadata": {
        "colab": {
          "base_uri": "https://localhost:8080/"
        },
        "id": "0g3Wjd3AYaaA",
        "outputId": "44285d1f-0369-493c-e1b3-3c0ae572950a"
      },
      "execution_count": 6,
      "outputs": [
        {
          "output_type": "stream",
          "name": "stdout",
          "text": [
            "Missing values-type column: 0\n",
            "Duplicated values-type column: 8805\n",
            "Total values-type column: 8807\n"
          ]
        }
      ]
    },
    {
      "cell_type": "code",
      "source": [
        "#title column\n",
        "missing_values_df_netflix_title = df_netflix['title'].isna().sum()\n",
        "duplicated_values_df_netflix_title = df_netflix['title'].duplicated().sum()\n",
        "total_values_df_netflix_title = df_netflix['title'].count()\n",
        "\n",
        "print(f'Missing values-title column: {missing_values_df_netflix_title}')\n",
        "print(f'Duplicated values-title column: {duplicated_values_df_netflix_title}')\n",
        "print(f'Total values-title column: {total_values_df_netflix_title}')"
      ],
      "metadata": {
        "colab": {
          "base_uri": "https://localhost:8080/"
        },
        "id": "TZiMIu8GYufq",
        "outputId": "ded70dea-4be7-466e-9917-cbdf1a5c232f"
      },
      "execution_count": 7,
      "outputs": [
        {
          "output_type": "stream",
          "name": "stdout",
          "text": [
            "Missing values-title column: 0\n",
            "Duplicated values-title column: 0\n",
            "Total values-title column: 8807\n"
          ]
        }
      ]
    },
    {
      "cell_type": "code",
      "source": [
        "#director column\n",
        "missing_values_df_netflix_director = df_netflix['director'].isna().sum()\n",
        "duplicated_values_df_netflix_director = df_netflix['director'].duplicated().sum()\n",
        "total_values_df_netflix_director = df_netflix['director'].count()\n",
        "\n",
        "print(f'Missing values-director column: {missing_values_df_netflix_director}')\n",
        "print(f'Duplicated values-director column: {duplicated_values_df_netflix_director}')\n",
        "print(f'Total values-director column: {total_values_df_netflix_director}')"
      ],
      "metadata": {
        "colab": {
          "base_uri": "https://localhost:8080/"
        },
        "id": "2BFA_GVCY526",
        "outputId": "0f1e2a62-e6cb-4f76-9511-69910dacdc5e"
      },
      "execution_count": 8,
      "outputs": [
        {
          "output_type": "stream",
          "name": "stdout",
          "text": [
            "Missing values-director column: 2634\n",
            "Duplicated values-director column: 4278\n",
            "Total values-director column: 6173\n"
          ]
        }
      ]
    },
    {
      "cell_type": "code",
      "source": [
        "#cast column\n",
        "missing_values_df_netflix_cast = df_netflix['cast'].isna().sum()\n",
        "duplicated_values_df_netflix_cast = df_netflix['cast'].duplicated().sum()\n",
        "total_values_df_netflix_cast = df_netflix['cast'].count()\n",
        "\n",
        "print(f'Missing values-cast column: {missing_values_df_netflix_cast}')\n",
        "print(f'Duplicated values-cast column: {duplicated_values_df_netflix_cast}')\n",
        "print(f'Total values-cast column: {total_values_df_netflix_cast}')"
      ],
      "metadata": {
        "colab": {
          "base_uri": "https://localhost:8080/"
        },
        "id": "PSJAjjX3ZD7X",
        "outputId": "78a5545e-6b79-4cee-e7a0-6d3fabcb2dec"
      },
      "execution_count": 9,
      "outputs": [
        {
          "output_type": "stream",
          "name": "stdout",
          "text": [
            "Missing values-cast column: 825\n",
            "Duplicated values-cast column: 1114\n",
            "Total values-cast column: 7982\n"
          ]
        }
      ]
    },
    {
      "cell_type": "code",
      "source": [
        "#country column\n",
        "missing_values_df_netflix_country = df_netflix['country'].isna().sum()\n",
        "duplicated_values_df_netflix_country = df_netflix['country'].duplicated().sum()\n",
        "total_values_df_netflix_country = df_netflix['country'].count()\n",
        "\n",
        "print(f'Missing values-country column: {missing_values_df_netflix_country}')\n",
        "print(f'Duplicated values-country column: {duplicated_values_df_netflix_country}')\n",
        "print(f'Total values-country column: {total_values_df_netflix_country}')"
      ],
      "metadata": {
        "colab": {
          "base_uri": "https://localhost:8080/"
        },
        "id": "qORB933wZNv0",
        "outputId": "17a0bab2-9d4d-42c7-ec03-a82a524ce0a7"
      },
      "execution_count": 10,
      "outputs": [
        {
          "output_type": "stream",
          "name": "stdout",
          "text": [
            "Missing values-country column: 831\n",
            "Duplicated values-country column: 8058\n",
            "Total values-country column: 7976\n"
          ]
        }
      ]
    },
    {
      "cell_type": "code",
      "source": [
        "#date_added column\n",
        "missing_values_df_netflix_date_added = df_netflix['date_added'].isna().sum()\n",
        "duplicated_values_df_netflix_date_added = df_netflix['date_added'].duplicated().sum()\n",
        "total_values_df_netflix_date_added = df_netflix['date_added'].count()\n",
        "\n",
        "print(f'Missing values-date_added column: {missing_values_df_netflix_date_added}')\n",
        "print(f'Duplicated values-date_added column: {duplicated_values_df_netflix_date_added}')\n",
        "print(f'Total values-date_added column: {total_values_df_netflix_date_added}')"
      ],
      "metadata": {
        "colab": {
          "base_uri": "https://localhost:8080/"
        },
        "id": "fFoL_zFCZXfB",
        "outputId": "b7ba1a9e-581b-49ff-e1bc-81dee0b38f76"
      },
      "execution_count": 11,
      "outputs": [
        {
          "output_type": "stream",
          "name": "stdout",
          "text": [
            "Missing values-date_added column: 10\n",
            "Duplicated values-date_added column: 7039\n",
            "Total values-date_added column: 8797\n"
          ]
        }
      ]
    },
    {
      "cell_type": "code",
      "source": [
        "#release_year column\n",
        "missing_values_df_netflix_release_year = df_netflix['release_year'].isna().sum()\n",
        "duplicated_values_df_netflix_release_year = df_netflix['release_year'].duplicated().sum()\n",
        "total_values_df_netflix_release_year = df_netflix['release_year'].count()\n",
        "\n",
        "print(f'Missing values-release_year column: {missing_values_df_netflix_release_year}')\n",
        "print(f'Duplicated values-release_year column: {duplicated_values_df_netflix_release_year}')\n",
        "print(f'Total values-release_year column: {total_values_df_netflix_release_year}')"
      ],
      "metadata": {
        "colab": {
          "base_uri": "https://localhost:8080/"
        },
        "id": "NWYn0JBNZh-P",
        "outputId": "62d47112-cc6b-4bf2-cdf6-6b8c93a30084"
      },
      "execution_count": 12,
      "outputs": [
        {
          "output_type": "stream",
          "name": "stdout",
          "text": [
            "Missing values-release_year column: 0\n",
            "Duplicated values-release_year column: 8733\n",
            "Total values-release_year column: 8807\n"
          ]
        }
      ]
    },
    {
      "cell_type": "code",
      "source": [
        "#rating column\n",
        "missing_values_df_netflix_rating = df_netflix['rating'].isna().sum()\n",
        "duplicated_values_df_netflix_rating = df_netflix['rating'].duplicated().sum()\n",
        "total_values_df_netflix_rating = df_netflix['rating'].count()\n",
        "\n",
        "print(f'Missing values-rating column: {missing_values_df_netflix_rating}')\n",
        "print(f'Duplicated values-rating column: {duplicated_values_df_netflix_rating}')\n",
        "print(f'Total values-rating column: {total_values_df_netflix_rating}')"
      ],
      "metadata": {
        "colab": {
          "base_uri": "https://localhost:8080/"
        },
        "id": "dZE5oHqMZsr2",
        "outputId": "c1a154ec-0905-4863-ead2-b6de3e415a63"
      },
      "execution_count": 39,
      "outputs": [
        {
          "output_type": "stream",
          "name": "stdout",
          "text": [
            "Missing values-rating column: 0\n",
            "Duplicated values-rating column: 8792\n",
            "Total values-rating column: 8807\n"
          ]
        }
      ]
    },
    {
      "cell_type": "code",
      "source": [
        "#duration column\n",
        "missing_values_df_netflix_duration = df_netflix['duration'].isna().sum()\n",
        "duplicated_values_df_netflix_duration = df_netflix['duration'].duplicated().sum()\n",
        "total_values_df_netflix_duration = df_netflix['duration'].count()\n",
        "\n",
        "print(f'Missing values-duration column: {missing_values_df_netflix_duration}')\n",
        "print(f'Duplicated values-duration column: {duplicated_values_df_netflix_duration}')\n",
        "print(f'Total values-duration column: {total_values_df_netflix_duration}')"
      ],
      "metadata": {
        "colab": {
          "base_uri": "https://localhost:8080/"
        },
        "id": "g0Fbtsq9Z3ie",
        "outputId": "4bea2596-b6cd-40a1-c830-76024dd88d7d"
      },
      "execution_count": 14,
      "outputs": [
        {
          "output_type": "stream",
          "name": "stdout",
          "text": [
            "Missing values-duration column: 3\n",
            "Duplicated values-duration column: 8586\n",
            "Total values-duration column: 8804\n"
          ]
        }
      ]
    },
    {
      "cell_type": "code",
      "source": [
        "#listed_in column\n",
        "missing_values_df_netflix_listed_in = df_netflix['listed_in'].isna().sum()\n",
        "duplicated_values_df_netflix_listed_in = df_netflix['listed_in'].duplicated().sum()\n",
        "total_values_df_netflix_listed_in = df_netflix['listed_in'].count()\n",
        "\n",
        "print(f'Missing values-listed_in column: {missing_values_df_netflix_listed_in}')\n",
        "print(f'Duplicated values-listed_in column: {duplicated_values_df_netflix_listed_in}')\n",
        "print(f'Total values-listed_in column: {total_values_df_netflix_listed_in}')"
      ],
      "metadata": {
        "colab": {
          "base_uri": "https://localhost:8080/"
        },
        "id": "rW7lQGlxaBi6",
        "outputId": "5519b132-53d2-43b6-a78c-126a2b1b1e98"
      },
      "execution_count": 15,
      "outputs": [
        {
          "output_type": "stream",
          "name": "stdout",
          "text": [
            "Missing values-listed_in column: 0\n",
            "Duplicated values-listed_in column: 8293\n",
            "Total values-listed_in column: 8807\n"
          ]
        }
      ]
    },
    {
      "cell_type": "code",
      "source": [
        "#description column\n",
        "missing_values_df_netflix_description = df_netflix['description'].isna().sum()\n",
        "duplicated_values_df_netflix_description = df_netflix['description'].duplicated().sum()\n",
        "total_values_df_netflix_description = df_netflix['description'].count()\n",
        "\n",
        "print(f'Missing values-description column: {missing_values_df_netflix_description}')\n",
        "print(f'Duplicated values-description column: {duplicated_values_df_netflix_description}')\n",
        "print(f'Total values-description column: {total_values_df_netflix_description}')"
      ],
      "metadata": {
        "colab": {
          "base_uri": "https://localhost:8080/"
        },
        "id": "iJP3KkdNaMdB",
        "outputId": "6e28b7bc-dd6b-45bd-bb78-79ba22642e93"
      },
      "execution_count": 16,
      "outputs": [
        {
          "output_type": "stream",
          "name": "stdout",
          "text": [
            "Missing values-description column: 0\n",
            "Duplicated values-description column: 32\n",
            "Total values-description column: 8807\n"
          ]
        }
      ]
    },
    {
      "cell_type": "markdown",
      "source": [
        "##Data Cleaning"
      ],
      "metadata": {
        "id": "UqaKH8r0ZlWw"
      }
    },
    {
      "cell_type": "code",
      "source": [
        "#show_id column\n",
        "\n",
        "#Missing values-show_id column: 0\n",
        "#Duplicated values-show_id column: 0\n",
        "#Total values-show_id column: 8807\n",
        "\n",
        "#8807 total values, let's convert to string, strip of white spaces, and make sure that each show_id\n",
        "#follows this pattern s[i] where i goes from 1 to 8807\n",
        "\n",
        "#convert to string\n",
        "df_netflix['show_id'] = df_netflix['show_id'].astype(str)\n",
        "\n",
        "#strip of white spaces\n",
        "df_netflix['show_id'] = df_netflix['show_id'].str.strip()\n",
        "\n",
        "#make sure all values converted to str\n",
        "df_netflix['show_id'].map(type).unique()\n",
        "\n",
        "#sometimes CSV or Excel imports add invisible characters that strip() won’t catch\n",
        "#this keeps only standard ASCII characters\n",
        "df_netflix['show_id'] = df_netflix['show_id'].str.replace(r\"[^\\x00-\\x7F]+\", \"\", regex=True)\n",
        "\n",
        "import re\n",
        "\n",
        "#define the regex pattern\n",
        "pattern_s = r\"^s\\d+$\"   # starts with 's' followed by one or more digits\n",
        "\n",
        "#check which rows match the pattern\n",
        "mask = df_netflix['show_id'].str.match(pattern_s)\n",
        "\n",
        "#see how many don't match\n",
        "invalid_count = (~mask).sum()\n",
        "print(f\"Number of invalid show_id entries: {invalid_count}\")\n",
        "\n",
        "print(\"show_id column is fully clean and validated\")"
      ],
      "metadata": {
        "colab": {
          "base_uri": "https://localhost:8080/"
        },
        "id": "-X62Q-ziZtBx",
        "outputId": "ea50d197-7741-4f2c-962e-1a95512f2f02"
      },
      "execution_count": 17,
      "outputs": [
        {
          "output_type": "stream",
          "name": "stdout",
          "text": [
            "Number of invalid show_id entries: 0\n",
            "show_id column is fully clean and validated\n"
          ]
        }
      ]
    },
    {
      "cell_type": "code",
      "source": [
        "#type column\n",
        "\n",
        "#Missing values-type column: 0\n",
        "#Duplicated values-type column: 8805\n",
        "#Total values-type column: 8807\n",
        "\n",
        "#looks like it only stores 2 values: \"Movie\" & \"TV Show\"\n",
        "\n",
        "#convert to string\n",
        "df_netflix['type'] = df_netflix['type'].astype(str)\n",
        "\n",
        "#strip of white spaces\n",
        "df_netflix['type'] = df_netflix['type'].str.strip()\n",
        "\n",
        "#make sure all values converted to str\n",
        "df_netflix['type'].map(type).unique()\n",
        "\n",
        "#sometimes CSV or Excel imports add invisible characters that strip() won’t catch\n",
        "#this keeps only standard ASCII characters\n",
        "df_netflix['type'] = df_netflix['type'].str.replace(r\"[^\\x00-\\x7F]+\", \"\", regex=True)\n",
        "\n",
        "import re\n",
        "\n",
        "#define the regex pattern (only \"Movie\" or \"TV Show\", case-sensitive)\n",
        "pattern_t = r\"^(Movie|TV Show)$\"\n",
        "\n",
        "#check which rows match the pattern\n",
        "mask = df_netflix['type'].str.match(pattern_t)\n",
        "\n",
        "#see how many don't match\n",
        "invalid_count = (~mask).sum()\n",
        "print(f\"Number of invalid show_id entries: {invalid_count}\")\n",
        "\n",
        "print(\"type column is fully clean and validated\")"
      ],
      "metadata": {
        "colab": {
          "base_uri": "https://localhost:8080/"
        },
        "id": "2XWL3SdPcgFn",
        "outputId": "1fdf7441-9730-49bb-9c7e-12c8cf0f3071"
      },
      "execution_count": 18,
      "outputs": [
        {
          "output_type": "stream",
          "name": "stdout",
          "text": [
            "Number of invalid show_id entries: 0\n",
            "type column is fully clean and validated\n"
          ]
        }
      ]
    },
    {
      "cell_type": "code",
      "source": [
        "#title column\n",
        "\n",
        "#Missing values-title column: 0\n",
        "#Duplicated values-title column: 0\n",
        "#Total values-title column: 8807\n",
        "\n",
        "#convert to string\n",
        "df_netflix['title'] = df_netflix['title'].astype(str)\n",
        "\n",
        "#on this column I don't need to strip of white spaces\n",
        "\n",
        "#check how many countries have special characters\n",
        "#regex pattern: anything that is not a letter, number, space\n",
        "pattern = r\"[^a-zA-Z0-9\\s]\"\n",
        "\n",
        "#create a boolean column: True if the title contains special characters\n",
        "df_netflix['has_special_char'] = df_netflix['title'].str.contains(pattern)\n",
        "\n",
        "#count how many titles have special characters\n",
        "special_char_count = df_netflix['has_special_char'].sum()\n",
        "print(f\"Titles with special characters: {special_char_count}\")\n",
        "\n",
        "#see which titles have special characters\n",
        "df_netflix[df_netflix['has_special_char']]\n",
        "\n",
        "#show the first 50 titles that contain special characters\n",
        "df_netflix[df_netflix['has_special_char']]['title'].head(50)"
      ],
      "metadata": {
        "colab": {
          "base_uri": "https://localhost:8080/",
          "height": 1000
        },
        "collapsed": true,
        "id": "LkyJGtEMP--1",
        "outputId": "db9c1eda-22fb-4a82-e400-8252762bbb51"
      },
      "execution_count": 19,
      "outputs": [
        {
          "output_type": "stream",
          "name": "stdout",
          "text": [
            "Titles with special characters: 2529\n"
          ]
        },
        {
          "output_type": "execute_result",
          "data": {
            "text/plain": [
              "1                                          Blood & Water\n",
              "6                       My Little Pony: A New Generation\n",
              "10                   Vendetta: Truth, Lies and The Mafia\n",
              "14                       Crime Stories: India Detectives\n",
              "16     Europe's Most Dangerous Man: Otto Skorzeny in ...\n",
              "20       Monsters Inside: The 24 Faces of Billy Milligan\n",
              "21                                Resurrection: Ertugrul\n",
              "23          Go! Go! Cory Carson: Chrissy Takes the Wheel\n",
              "40                He-Man and the Masters of the Universe\n",
              "44                                     Jaws: The Revenge\n",
              "51     InuYasha the Movie 2: The Castle Beyond the Lo...\n",
              "52     InuYasha the Movie 3: Swords of an Honorable R...\n",
              "53       InuYasha the Movie 4: Fire on the Mystic Island\n",
              "54     InuYasha the Movie: Affections Touching Across...\n",
              "56              Naruto Shippuden the Movie: Blood Prison\n",
              "57                     Naruto Shippûden the Movie: Bonds\n",
              "58          Naruto Shippûden the Movie: The Will of Fire\n",
              "59                           Naruto Shippuden: The Movie\n",
              "60           Naruto Shippuden: The Movie: The Lost Tower\n",
              "61      Naruto the Movie 2: Legend of the Stone of Gelel\n",
              "62     Naruto the Movie 3: Guardians of the Crescent ...\n",
              "63     Naruto the Movie: Ninja Clash in the Land of Snow\n",
              "70                             Too Hot To Handle: Latino\n",
              "72                Jack Whitehall: Travels with My Father\n",
              "74             The World's Most Amazing Vacation Rentals\n",
              "75                                You vs. Wild: Out Cold\n",
              "77                         Little Singham - Black Shadow\n",
              "79                               Tughlaq Durbar (Telugu)\n",
              "84                                  Omo Ghetto: the Saga\n",
              "85                   Pokémon Master Journeys: The Series\n",
              "88              Blood Brothers: Malcolm X & Muhammad Ali\n",
              "93                                                  JJ+E\n",
              "96     If I Leave Here Tomorrow: A Film About Lynyrd ...\n",
              "98                             Octonauts: Above & Beyond\n",
              "101                               Untold: Breaking Point\n",
              "102             Countdown: Inspiration4 Mission to Space\n",
              "106                                               Bunk'd\n",
              "110                    Money Heist: From Tokyo to Berlin\n",
              "124                          Pororo - The Little Penguin\n",
              "125                                              Q-Force\n",
              "128                      Agatha Christie's Crooked House\n",
              "131                          Blade Runner: The Final Cut\n",
              "140                  El patrón, radiografía de un crimen\n",
              "152                        Janoskians: Untold and Untrue\n",
              "153                                           Kid-E-Cats\n",
              "154                                  Kuroko's Basketball\n",
              "158                              Love Don't Cost a Thing\n",
              "161                                        Mars Attacks!\n",
              "163                                   My Boss's Daughter\n",
              "170                                       Rhyme & Reason\n",
              "Name: title, dtype: object"
            ],
            "text/html": [
              "<div>\n",
              "<style scoped>\n",
              "    .dataframe tbody tr th:only-of-type {\n",
              "        vertical-align: middle;\n",
              "    }\n",
              "\n",
              "    .dataframe tbody tr th {\n",
              "        vertical-align: top;\n",
              "    }\n",
              "\n",
              "    .dataframe thead th {\n",
              "        text-align: right;\n",
              "    }\n",
              "</style>\n",
              "<table border=\"1\" class=\"dataframe\">\n",
              "  <thead>\n",
              "    <tr style=\"text-align: right;\">\n",
              "      <th></th>\n",
              "      <th>title</th>\n",
              "    </tr>\n",
              "  </thead>\n",
              "  <tbody>\n",
              "    <tr>\n",
              "      <th>1</th>\n",
              "      <td>Blood &amp; Water</td>\n",
              "    </tr>\n",
              "    <tr>\n",
              "      <th>6</th>\n",
              "      <td>My Little Pony: A New Generation</td>\n",
              "    </tr>\n",
              "    <tr>\n",
              "      <th>10</th>\n",
              "      <td>Vendetta: Truth, Lies and The Mafia</td>\n",
              "    </tr>\n",
              "    <tr>\n",
              "      <th>14</th>\n",
              "      <td>Crime Stories: India Detectives</td>\n",
              "    </tr>\n",
              "    <tr>\n",
              "      <th>16</th>\n",
              "      <td>Europe's Most Dangerous Man: Otto Skorzeny in ...</td>\n",
              "    </tr>\n",
              "    <tr>\n",
              "      <th>20</th>\n",
              "      <td>Monsters Inside: The 24 Faces of Billy Milligan</td>\n",
              "    </tr>\n",
              "    <tr>\n",
              "      <th>21</th>\n",
              "      <td>Resurrection: Ertugrul</td>\n",
              "    </tr>\n",
              "    <tr>\n",
              "      <th>23</th>\n",
              "      <td>Go! Go! Cory Carson: Chrissy Takes the Wheel</td>\n",
              "    </tr>\n",
              "    <tr>\n",
              "      <th>40</th>\n",
              "      <td>He-Man and the Masters of the Universe</td>\n",
              "    </tr>\n",
              "    <tr>\n",
              "      <th>44</th>\n",
              "      <td>Jaws: The Revenge</td>\n",
              "    </tr>\n",
              "    <tr>\n",
              "      <th>51</th>\n",
              "      <td>InuYasha the Movie 2: The Castle Beyond the Lo...</td>\n",
              "    </tr>\n",
              "    <tr>\n",
              "      <th>52</th>\n",
              "      <td>InuYasha the Movie 3: Swords of an Honorable R...</td>\n",
              "    </tr>\n",
              "    <tr>\n",
              "      <th>53</th>\n",
              "      <td>InuYasha the Movie 4: Fire on the Mystic Island</td>\n",
              "    </tr>\n",
              "    <tr>\n",
              "      <th>54</th>\n",
              "      <td>InuYasha the Movie: Affections Touching Across...</td>\n",
              "    </tr>\n",
              "    <tr>\n",
              "      <th>56</th>\n",
              "      <td>Naruto Shippuden the Movie: Blood Prison</td>\n",
              "    </tr>\n",
              "    <tr>\n",
              "      <th>57</th>\n",
              "      <td>Naruto Shippûden the Movie: Bonds</td>\n",
              "    </tr>\n",
              "    <tr>\n",
              "      <th>58</th>\n",
              "      <td>Naruto Shippûden the Movie: The Will of Fire</td>\n",
              "    </tr>\n",
              "    <tr>\n",
              "      <th>59</th>\n",
              "      <td>Naruto Shippuden: The Movie</td>\n",
              "    </tr>\n",
              "    <tr>\n",
              "      <th>60</th>\n",
              "      <td>Naruto Shippuden: The Movie: The Lost Tower</td>\n",
              "    </tr>\n",
              "    <tr>\n",
              "      <th>61</th>\n",
              "      <td>Naruto the Movie 2: Legend of the Stone of Gelel</td>\n",
              "    </tr>\n",
              "    <tr>\n",
              "      <th>62</th>\n",
              "      <td>Naruto the Movie 3: Guardians of the Crescent ...</td>\n",
              "    </tr>\n",
              "    <tr>\n",
              "      <th>63</th>\n",
              "      <td>Naruto the Movie: Ninja Clash in the Land of Snow</td>\n",
              "    </tr>\n",
              "    <tr>\n",
              "      <th>70</th>\n",
              "      <td>Too Hot To Handle: Latino</td>\n",
              "    </tr>\n",
              "    <tr>\n",
              "      <th>72</th>\n",
              "      <td>Jack Whitehall: Travels with My Father</td>\n",
              "    </tr>\n",
              "    <tr>\n",
              "      <th>74</th>\n",
              "      <td>The World's Most Amazing Vacation Rentals</td>\n",
              "    </tr>\n",
              "    <tr>\n",
              "      <th>75</th>\n",
              "      <td>You vs. Wild: Out Cold</td>\n",
              "    </tr>\n",
              "    <tr>\n",
              "      <th>77</th>\n",
              "      <td>Little Singham - Black Shadow</td>\n",
              "    </tr>\n",
              "    <tr>\n",
              "      <th>79</th>\n",
              "      <td>Tughlaq Durbar (Telugu)</td>\n",
              "    </tr>\n",
              "    <tr>\n",
              "      <th>84</th>\n",
              "      <td>Omo Ghetto: the Saga</td>\n",
              "    </tr>\n",
              "    <tr>\n",
              "      <th>85</th>\n",
              "      <td>Pokémon Master Journeys: The Series</td>\n",
              "    </tr>\n",
              "    <tr>\n",
              "      <th>88</th>\n",
              "      <td>Blood Brothers: Malcolm X &amp; Muhammad Ali</td>\n",
              "    </tr>\n",
              "    <tr>\n",
              "      <th>93</th>\n",
              "      <td>JJ+E</td>\n",
              "    </tr>\n",
              "    <tr>\n",
              "      <th>96</th>\n",
              "      <td>If I Leave Here Tomorrow: A Film About Lynyrd ...</td>\n",
              "    </tr>\n",
              "    <tr>\n",
              "      <th>98</th>\n",
              "      <td>Octonauts: Above &amp; Beyond</td>\n",
              "    </tr>\n",
              "    <tr>\n",
              "      <th>101</th>\n",
              "      <td>Untold: Breaking Point</td>\n",
              "    </tr>\n",
              "    <tr>\n",
              "      <th>102</th>\n",
              "      <td>Countdown: Inspiration4 Mission to Space</td>\n",
              "    </tr>\n",
              "    <tr>\n",
              "      <th>106</th>\n",
              "      <td>Bunk'd</td>\n",
              "    </tr>\n",
              "    <tr>\n",
              "      <th>110</th>\n",
              "      <td>Money Heist: From Tokyo to Berlin</td>\n",
              "    </tr>\n",
              "    <tr>\n",
              "      <th>124</th>\n",
              "      <td>Pororo - The Little Penguin</td>\n",
              "    </tr>\n",
              "    <tr>\n",
              "      <th>125</th>\n",
              "      <td>Q-Force</td>\n",
              "    </tr>\n",
              "    <tr>\n",
              "      <th>128</th>\n",
              "      <td>Agatha Christie's Crooked House</td>\n",
              "    </tr>\n",
              "    <tr>\n",
              "      <th>131</th>\n",
              "      <td>Blade Runner: The Final Cut</td>\n",
              "    </tr>\n",
              "    <tr>\n",
              "      <th>140</th>\n",
              "      <td>El patrón, radiografía de un crimen</td>\n",
              "    </tr>\n",
              "    <tr>\n",
              "      <th>152</th>\n",
              "      <td>Janoskians: Untold and Untrue</td>\n",
              "    </tr>\n",
              "    <tr>\n",
              "      <th>153</th>\n",
              "      <td>Kid-E-Cats</td>\n",
              "    </tr>\n",
              "    <tr>\n",
              "      <th>154</th>\n",
              "      <td>Kuroko's Basketball</td>\n",
              "    </tr>\n",
              "    <tr>\n",
              "      <th>158</th>\n",
              "      <td>Love Don't Cost a Thing</td>\n",
              "    </tr>\n",
              "    <tr>\n",
              "      <th>161</th>\n",
              "      <td>Mars Attacks!</td>\n",
              "    </tr>\n",
              "    <tr>\n",
              "      <th>163</th>\n",
              "      <td>My Boss's Daughter</td>\n",
              "    </tr>\n",
              "    <tr>\n",
              "      <th>170</th>\n",
              "      <td>Rhyme &amp; Reason</td>\n",
              "    </tr>\n",
              "  </tbody>\n",
              "</table>\n",
              "</div><br><label><b>dtype:</b> object</label>"
            ]
          },
          "metadata": {},
          "execution_count": 19
        }
      ]
    },
    {
      "cell_type": "code",
      "source": [
        "#director column\n",
        "\n",
        "#Missing values-director column: 2634 [Initial]\n",
        "#Duplicated values-director column: 4278\n",
        "#Total values-director column: 6173\n",
        "\n",
        "#convert to string\n",
        "df_netflix['director'] = df_netflix['director'].astype(str)\n",
        "\n",
        "#on this column I don't need to strip of white spaces\n",
        "\n",
        "#check how many countries have special characters\n",
        "#regex pattern: anything that is not a letter, number, space\n",
        "pattern = r\"[^a-zA-Z0-9\\s]\"\n",
        "\n",
        "#create a boolean column: True if the director contains special characters\n",
        "df_netflix['has_special_char'] = df_netflix['director'].str.contains(pattern)\n",
        "\n",
        "#count how many directors have special characters\n",
        "special_char_count = df_netflix['has_special_char'].sum()\n",
        "print(f\"Directors with special characters: {special_char_count}\")\n",
        "\n",
        "#count all commas that directors have\n",
        "comma_count = df_netflix['director'].str.contains(',').sum()\n",
        "print(f\"Directors with a comma: {comma_count}\")\n",
        "\n",
        "#see which directors have special characters\n",
        "df_netflix[df_netflix['has_special_char']]\n",
        "\n",
        "#show the first 50 directors that contain special characters\n",
        "df_netflix[df_netflix['has_special_char']]['director'].head(50)\n",
        "\n",
        "#handle missing values\n",
        "df_netflix['director'].fillna('Unknown', inplace=True)"
      ],
      "metadata": {
        "colab": {
          "base_uri": "https://localhost:8080/"
        },
        "id": "8hC4Yaw2UEk6",
        "outputId": "80362d58-ff09-43aa-d3b3-8661e4a2b5e4",
        "collapsed": true
      },
      "execution_count": 20,
      "outputs": [
        {
          "output_type": "stream",
          "name": "stdout",
          "text": [
            "Directors with special characters: 1314\n",
            "Directors with a comma: 614\n"
          ]
        }
      ]
    },
    {
      "cell_type": "code",
      "source": [
        "#cast column\n",
        "\n",
        "#Missing values-cast column: 825 [Initial]\n",
        "#Duplicated values-cast column: 1114\n",
        "#Total values-cast column: 7982\n",
        "\n",
        "#convert to string\n",
        "df_netflix['cast'] = df_netflix['cast'].astype(str)\n",
        "\n",
        "#on this column I don't need to strip of white spaces\n",
        "\n",
        "#check how many countries have special characters\n",
        "#regex pattern: anything that is not a letter, number, space\n",
        "pattern = r\"[^a-zA-Z0-9\\s]\"\n",
        "\n",
        "#create a boolean column: True if the cast members contains special characters\n",
        "df_netflix['has_special_char'] = df_netflix['cast'].str.contains(pattern)\n",
        "\n",
        "#count how many cast members have special characters\n",
        "special_char_count = df_netflix['has_special_char'].sum()\n",
        "print(f\"Cast members with special characters: {special_char_count}\")\n",
        "\n",
        "#count all commas that cast members have\n",
        "comma_count = df_netflix['cast'].str.contains(',').sum()\n",
        "print(f\"Cast members with a comma: {comma_count}\")\n",
        "\n",
        "#see which cast members have special characters\n",
        "df_netflix[df_netflix['has_special_char']]\n",
        "\n",
        "#show the first 50 cast members that contain special characters\n",
        "df_netflix[df_netflix['has_special_char']]['cast'].head(50)\n",
        "\n",
        "#handle missing values\n",
        "df_netflix['cast'].fillna('Unknown', inplace=True)"
      ],
      "metadata": {
        "colab": {
          "base_uri": "https://localhost:8080/"
        },
        "id": "JnL2XWRyRwu3",
        "outputId": "4910fe29-76d1-4b1e-df43-ccabf233770f"
      },
      "execution_count": 21,
      "outputs": [
        {
          "output_type": "stream",
          "name": "stdout",
          "text": [
            "Cast members with special characters: 7180\n",
            "Cast members with a comma: 7101\n"
          ]
        }
      ]
    },
    {
      "cell_type": "code",
      "source": [
        "#country column\n",
        "\n",
        "#Missing values-country column: 831 [Initial]\n",
        "#Duplicated values-country column: 8058\n",
        "#Total values-country column: 7976\n",
        "\n",
        "#convert to string\n",
        "df_netflix['country'] = df_netflix['country'].astype(str)\n",
        "\n",
        "#strip of white spaces\n",
        "df_netflix['country'] = df_netflix['country'].str.strip()\n",
        "\n",
        "#check how many countries have special characters\n",
        "#regex pattern: anything that is not a letter, number, space\n",
        "pattern = r\"[^a-zA-Z0-9\\s]\"\n",
        "\n",
        "#create a boolean column: True if the countries contain special characters\n",
        "df_netflix['has_special_char'] = df_netflix['country'].str.contains(pattern)\n",
        "\n",
        "#count how many countries have special characters\n",
        "special_char_count = df_netflix['has_special_char'].sum()\n",
        "print(f\"Countries with special characters: {special_char_count}\")\n",
        "\n",
        "#count all commas that countries have\n",
        "comma_count = df_netflix['country'].str.contains(',').sum()\n",
        "print(f\"Countries with a comma: {comma_count}\")\n",
        "\n",
        "#see which countries have special characters\n",
        "df_netflix[df_netflix['has_special_char']]\n",
        "\n",
        "#show the first 50 countries that contain special characters\n",
        "df_netflix[df_netflix['has_special_char']]['country'].head(50)\n",
        "\n",
        "#handle missing values\n",
        "df_netflix['country'].fillna('Unknown', inplace=True)"
      ],
      "metadata": {
        "colab": {
          "base_uri": "https://localhost:8080/"
        },
        "id": "3a_jjkUJVn71",
        "outputId": "2d6728ed-0078-41e5-8bff-0283f2167b77"
      },
      "execution_count": 22,
      "outputs": [
        {
          "output_type": "stream",
          "name": "stdout",
          "text": [
            "Countries with special characters: 1320\n",
            "Countries with a comma: 1320\n"
          ]
        }
      ]
    },
    {
      "cell_type": "code",
      "source": [
        "#date_added column\n",
        "\n",
        "#Missing values-date_added column: 10\n",
        "#Duplicated values-date_added column: 7039\n",
        "#Total values-date_added column: 8797\n",
        "\n",
        "#convert to date type, strip off white spaces and coerce invalid formats to NaT\n",
        "df_netflix['date_added'] = pd.to_datetime(df_netflix['date_added'].astype(str).str.strip(), errors='coerce')\n",
        "\n",
        "#confirm the conversion\n",
        "df_netflix['date_added'].dtype\n",
        "\n",
        "#confirm missing values are NaT (10 missing values -> output: np.int64(10))\n",
        "df_netflix['date_added'].isna().sum()"
      ],
      "metadata": {
        "colab": {
          "base_uri": "https://localhost:8080/"
        },
        "id": "U-alAD_Gixlr",
        "outputId": "3d9b3a99-f672-4dcd-8176-94c4619dffa0"
      },
      "execution_count": 28,
      "outputs": [
        {
          "output_type": "execute_result",
          "data": {
            "text/plain": [
              "np.int64(10)"
            ]
          },
          "metadata": {},
          "execution_count": 28
        }
      ]
    },
    {
      "cell_type": "code",
      "source": [
        "#release_year column\n",
        "\n",
        "#Missing values-release_year column: 0\n",
        "#Duplicated values-release_year column: 8733\n",
        "#Total values-release_year column: 8807\n",
        "\n",
        "#convert to int\n",
        "df_netflix['release_year'] = df_netflix['release_year'].astype(int)\n",
        "\n",
        "#convert release_year to string for regex checking\n",
        "release_year_str = df_netflix['release_year'].astype(str)\n",
        "\n",
        "#regex pattern for 4-digit years\n",
        "pattern = r'^\\d{4}$'\n",
        "\n",
        "#boolean mask -> true if it matches 4-digit pattern\n",
        "is_valid_year = release_year_str.str.match(pattern)\n",
        "\n",
        "#count how many are valid 4-digit years\n",
        "valid_count = is_valid_year.sum()\n",
        "\n",
        "#count how many are not valid\n",
        "invalid_count = (~is_valid_year).sum()\n",
        "\n",
        "print(f\"Valid 4-digit release_year: {valid_count}\")\n",
        "print(f\"Invalid release_year: {invalid_count}\")"
      ],
      "metadata": {
        "colab": {
          "base_uri": "https://localhost:8080/"
        },
        "id": "f3xnPVW2mb0n",
        "outputId": "b1439a3b-eab5-4d1c-acdf-9138d8e5a11a"
      },
      "execution_count": 24,
      "outputs": [
        {
          "output_type": "stream",
          "name": "stdout",
          "text": [
            "Valid 4-digit release_year: 8807\n",
            "Invalid release_year: 0\n"
          ]
        }
      ]
    },
    {
      "cell_type": "code",
      "source": [
        "#rating column -> common values: PG-13, TV-MA, PG, TV-14, TV-PG, TV-Y, TV-Y7, R\n",
        "\n",
        "#Missing values-rating column: 4 [Initial]\n",
        "#Duplicated values-rating column: 8789\n",
        "#Total values-rating column: 8803\n",
        "\n",
        "#convert rating to string, strip of white spaces, handle missing values\n",
        "df_netflix['rating'] = df_netflix['rating'].astype(str).str.strip().fillna('Unknown')\n",
        "\n",
        "#confirm most common values\n",
        "rating_counts = df_netflix['rating'].value_counts()\n",
        "print(rating_counts)\n",
        "\n",
        "#clean anomalies (66 min, 74 min, 84 min)\n",
        "valid_ratings = {\n",
        "    'PG-13', 'TV-MA', 'PG', 'TV-14', 'TV-PG',\n",
        "    'TV-Y', 'TV-Y7', 'R', 'TV-G', 'NR', 'G', 'TV-Y7-FV', 'NC-17', 'UR', 'Unknown'\n",
        "}\n",
        "\n",
        "df_netflix['rating'] = df_netflix['rating'].apply(lambda x: x if x in valid_ratings else 'Unknown')"
      ],
      "metadata": {
        "colab": {
          "base_uri": "https://localhost:8080/"
        },
        "id": "fOu92MpKpLw7",
        "outputId": "57d25482-c3d1-4dcf-85ae-b74990090273"
      },
      "execution_count": 40,
      "outputs": [
        {
          "output_type": "stream",
          "name": "stdout",
          "text": [
            "rating\n",
            "TV-MA       3207\n",
            "TV-14       2160\n",
            "TV-PG        863\n",
            "R            799\n",
            "PG-13        490\n",
            "TV-Y7        334\n",
            "TV-Y         307\n",
            "PG           287\n",
            "TV-G         220\n",
            "NR            80\n",
            "G             41\n",
            "Unknown        7\n",
            "TV-Y7-FV       6\n",
            "NC-17          3\n",
            "UR             3\n",
            "Name: count, dtype: int64\n"
          ]
        }
      ]
    }
  ]
}
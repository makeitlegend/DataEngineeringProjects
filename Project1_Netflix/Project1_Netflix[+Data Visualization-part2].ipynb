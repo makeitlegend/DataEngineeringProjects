{
  "nbformat": 4,
  "nbformat_minor": 0,
  "metadata": {
    "colab": {
      "provenance": []
    },
    "kernelspec": {
      "name": "python3",
      "display_name": "Python 3"
    },
    "language_info": {
      "name": "python"
    }
  },
  "cells": [
    {
      "cell_type": "markdown",
      "source": [
        "#Netflix Movies and TV Shows"
      ],
      "metadata": {
        "id": "HY0IKjnLZcaA"
      }
    },
    {
      "cell_type": "code",
      "execution_count": 66,
      "metadata": {
        "id": "a9aiyh26oSxl"
      },
      "outputs": [],
      "source": [
        "import pandas as pd\n",
        "import numpy as np"
      ]
    },
    {
      "cell_type": "markdown",
      "source": [
        "##Data Exploration"
      ],
      "metadata": {
        "id": "KOE7DrLKZhyA"
      }
    },
    {
      "cell_type": "code",
      "source": [
        "df_netflix = pd.read_csv(\"/content/netflix_titles.csv\")"
      ],
      "metadata": {
        "id": "gigTXUPmXCP2"
      },
      "execution_count": 67,
      "outputs": []
    },
    {
      "cell_type": "code",
      "source": [
        "df_netflix.info()"
      ],
      "metadata": {
        "colab": {
          "base_uri": "https://localhost:8080/"
        },
        "id": "rydMUStsXPCQ",
        "outputId": "67a0bf04-3784-4d82-c12c-331d28e41ef1"
      },
      "execution_count": 68,
      "outputs": [
        {
          "output_type": "stream",
          "name": "stdout",
          "text": [
            "<class 'pandas.core.frame.DataFrame'>\n",
            "RangeIndex: 8807 entries, 0 to 8806\n",
            "Data columns (total 12 columns):\n",
            " #   Column        Non-Null Count  Dtype \n",
            "---  ------        --------------  ----- \n",
            " 0   show_id       8807 non-null   object\n",
            " 1   type          8807 non-null   object\n",
            " 2   title         8807 non-null   object\n",
            " 3   director      6173 non-null   object\n",
            " 4   cast          7982 non-null   object\n",
            " 5   country       7976 non-null   object\n",
            " 6   date_added    8797 non-null   object\n",
            " 7   release_year  8807 non-null   int64 \n",
            " 8   rating        8803 non-null   object\n",
            " 9   duration      8804 non-null   object\n",
            " 10  listed_in     8807 non-null   object\n",
            " 11  description   8807 non-null   object\n",
            "dtypes: int64(1), object(11)\n",
            "memory usage: 825.8+ KB\n"
          ]
        }
      ]
    },
    {
      "cell_type": "code",
      "source": [
        "df_netflix.describe()"
      ],
      "metadata": {
        "colab": {
          "base_uri": "https://localhost:8080/",
          "height": 300
        },
        "collapsed": true,
        "id": "yjvH-COAXYou",
        "outputId": "fce4936d-853f-41f8-c9c3-938039b35fcf"
      },
      "execution_count": 69,
      "outputs": [
        {
          "output_type": "execute_result",
          "data": {
            "text/plain": [
              "       release_year\n",
              "count   8807.000000\n",
              "mean    2014.180198\n",
              "std        8.819312\n",
              "min     1925.000000\n",
              "25%     2013.000000\n",
              "50%     2017.000000\n",
              "75%     2019.000000\n",
              "max     2021.000000"
            ],
            "text/html": [
              "\n",
              "  <div id=\"df-2b79b30b-fede-4d7b-b43b-0b4f958b925d\" class=\"colab-df-container\">\n",
              "    <div>\n",
              "<style scoped>\n",
              "    .dataframe tbody tr th:only-of-type {\n",
              "        vertical-align: middle;\n",
              "    }\n",
              "\n",
              "    .dataframe tbody tr th {\n",
              "        vertical-align: top;\n",
              "    }\n",
              "\n",
              "    .dataframe thead th {\n",
              "        text-align: right;\n",
              "    }\n",
              "</style>\n",
              "<table border=\"1\" class=\"dataframe\">\n",
              "  <thead>\n",
              "    <tr style=\"text-align: right;\">\n",
              "      <th></th>\n",
              "      <th>release_year</th>\n",
              "    </tr>\n",
              "  </thead>\n",
              "  <tbody>\n",
              "    <tr>\n",
              "      <th>count</th>\n",
              "      <td>8807.000000</td>\n",
              "    </tr>\n",
              "    <tr>\n",
              "      <th>mean</th>\n",
              "      <td>2014.180198</td>\n",
              "    </tr>\n",
              "    <tr>\n",
              "      <th>std</th>\n",
              "      <td>8.819312</td>\n",
              "    </tr>\n",
              "    <tr>\n",
              "      <th>min</th>\n",
              "      <td>1925.000000</td>\n",
              "    </tr>\n",
              "    <tr>\n",
              "      <th>25%</th>\n",
              "      <td>2013.000000</td>\n",
              "    </tr>\n",
              "    <tr>\n",
              "      <th>50%</th>\n",
              "      <td>2017.000000</td>\n",
              "    </tr>\n",
              "    <tr>\n",
              "      <th>75%</th>\n",
              "      <td>2019.000000</td>\n",
              "    </tr>\n",
              "    <tr>\n",
              "      <th>max</th>\n",
              "      <td>2021.000000</td>\n",
              "    </tr>\n",
              "  </tbody>\n",
              "</table>\n",
              "</div>\n",
              "    <div class=\"colab-df-buttons\">\n",
              "\n",
              "  <div class=\"colab-df-container\">\n",
              "    <button class=\"colab-df-convert\" onclick=\"convertToInteractive('df-2b79b30b-fede-4d7b-b43b-0b4f958b925d')\"\n",
              "            title=\"Convert this dataframe to an interactive table.\"\n",
              "            style=\"display:none;\">\n",
              "\n",
              "  <svg xmlns=\"http://www.w3.org/2000/svg\" height=\"24px\" viewBox=\"0 -960 960 960\">\n",
              "    <path d=\"M120-120v-720h720v720H120Zm60-500h600v-160H180v160Zm220 220h160v-160H400v160Zm0 220h160v-160H400v160ZM180-400h160v-160H180v160Zm440 0h160v-160H620v160ZM180-180h160v-160H180v160Zm440 0h160v-160H620v160Z\"/>\n",
              "  </svg>\n",
              "    </button>\n",
              "\n",
              "  <style>\n",
              "    .colab-df-container {\n",
              "      display:flex;\n",
              "      gap: 12px;\n",
              "    }\n",
              "\n",
              "    .colab-df-convert {\n",
              "      background-color: #E8F0FE;\n",
              "      border: none;\n",
              "      border-radius: 50%;\n",
              "      cursor: pointer;\n",
              "      display: none;\n",
              "      fill: #1967D2;\n",
              "      height: 32px;\n",
              "      padding: 0 0 0 0;\n",
              "      width: 32px;\n",
              "    }\n",
              "\n",
              "    .colab-df-convert:hover {\n",
              "      background-color: #E2EBFA;\n",
              "      box-shadow: 0px 1px 2px rgba(60, 64, 67, 0.3), 0px 1px 3px 1px rgba(60, 64, 67, 0.15);\n",
              "      fill: #174EA6;\n",
              "    }\n",
              "\n",
              "    .colab-df-buttons div {\n",
              "      margin-bottom: 4px;\n",
              "    }\n",
              "\n",
              "    [theme=dark] .colab-df-convert {\n",
              "      background-color: #3B4455;\n",
              "      fill: #D2E3FC;\n",
              "    }\n",
              "\n",
              "    [theme=dark] .colab-df-convert:hover {\n",
              "      background-color: #434B5C;\n",
              "      box-shadow: 0px 1px 3px 1px rgba(0, 0, 0, 0.15);\n",
              "      filter: drop-shadow(0px 1px 2px rgba(0, 0, 0, 0.3));\n",
              "      fill: #FFFFFF;\n",
              "    }\n",
              "  </style>\n",
              "\n",
              "    <script>\n",
              "      const buttonEl =\n",
              "        document.querySelector('#df-2b79b30b-fede-4d7b-b43b-0b4f958b925d button.colab-df-convert');\n",
              "      buttonEl.style.display =\n",
              "        google.colab.kernel.accessAllowed ? 'block' : 'none';\n",
              "\n",
              "      async function convertToInteractive(key) {\n",
              "        const element = document.querySelector('#df-2b79b30b-fede-4d7b-b43b-0b4f958b925d');\n",
              "        const dataTable =\n",
              "          await google.colab.kernel.invokeFunction('convertToInteractive',\n",
              "                                                    [key], {});\n",
              "        if (!dataTable) return;\n",
              "\n",
              "        const docLinkHtml = 'Like what you see? Visit the ' +\n",
              "          '<a target=\"_blank\" href=https://colab.research.google.com/notebooks/data_table.ipynb>data table notebook</a>'\n",
              "          + ' to learn more about interactive tables.';\n",
              "        element.innerHTML = '';\n",
              "        dataTable['output_type'] = 'display_data';\n",
              "        await google.colab.output.renderOutput(dataTable, element);\n",
              "        const docLink = document.createElement('div');\n",
              "        docLink.innerHTML = docLinkHtml;\n",
              "        element.appendChild(docLink);\n",
              "      }\n",
              "    </script>\n",
              "  </div>\n",
              "\n",
              "\n",
              "    <div id=\"df-8d6d9a66-6aa6-416b-a6e7-c00863772464\">\n",
              "      <button class=\"colab-df-quickchart\" onclick=\"quickchart('df-8d6d9a66-6aa6-416b-a6e7-c00863772464')\"\n",
              "                title=\"Suggest charts\"\n",
              "                style=\"display:none;\">\n",
              "\n",
              "<svg xmlns=\"http://www.w3.org/2000/svg\" height=\"24px\"viewBox=\"0 0 24 24\"\n",
              "     width=\"24px\">\n",
              "    <g>\n",
              "        <path d=\"M19 3H5c-1.1 0-2 .9-2 2v14c0 1.1.9 2 2 2h14c1.1 0 2-.9 2-2V5c0-1.1-.9-2-2-2zM9 17H7v-7h2v7zm4 0h-2V7h2v10zm4 0h-2v-4h2v4z\"/>\n",
              "    </g>\n",
              "</svg>\n",
              "      </button>\n",
              "\n",
              "<style>\n",
              "  .colab-df-quickchart {\n",
              "      --bg-color: #E8F0FE;\n",
              "      --fill-color: #1967D2;\n",
              "      --hover-bg-color: #E2EBFA;\n",
              "      --hover-fill-color: #174EA6;\n",
              "      --disabled-fill-color: #AAA;\n",
              "      --disabled-bg-color: #DDD;\n",
              "  }\n",
              "\n",
              "  [theme=dark] .colab-df-quickchart {\n",
              "      --bg-color: #3B4455;\n",
              "      --fill-color: #D2E3FC;\n",
              "      --hover-bg-color: #434B5C;\n",
              "      --hover-fill-color: #FFFFFF;\n",
              "      --disabled-bg-color: #3B4455;\n",
              "      --disabled-fill-color: #666;\n",
              "  }\n",
              "\n",
              "  .colab-df-quickchart {\n",
              "    background-color: var(--bg-color);\n",
              "    border: none;\n",
              "    border-radius: 50%;\n",
              "    cursor: pointer;\n",
              "    display: none;\n",
              "    fill: var(--fill-color);\n",
              "    height: 32px;\n",
              "    padding: 0;\n",
              "    width: 32px;\n",
              "  }\n",
              "\n",
              "  .colab-df-quickchart:hover {\n",
              "    background-color: var(--hover-bg-color);\n",
              "    box-shadow: 0 1px 2px rgba(60, 64, 67, 0.3), 0 1px 3px 1px rgba(60, 64, 67, 0.15);\n",
              "    fill: var(--button-hover-fill-color);\n",
              "  }\n",
              "\n",
              "  .colab-df-quickchart-complete:disabled,\n",
              "  .colab-df-quickchart-complete:disabled:hover {\n",
              "    background-color: var(--disabled-bg-color);\n",
              "    fill: var(--disabled-fill-color);\n",
              "    box-shadow: none;\n",
              "  }\n",
              "\n",
              "  .colab-df-spinner {\n",
              "    border: 2px solid var(--fill-color);\n",
              "    border-color: transparent;\n",
              "    border-bottom-color: var(--fill-color);\n",
              "    animation:\n",
              "      spin 1s steps(1) infinite;\n",
              "  }\n",
              "\n",
              "  @keyframes spin {\n",
              "    0% {\n",
              "      border-color: transparent;\n",
              "      border-bottom-color: var(--fill-color);\n",
              "      border-left-color: var(--fill-color);\n",
              "    }\n",
              "    20% {\n",
              "      border-color: transparent;\n",
              "      border-left-color: var(--fill-color);\n",
              "      border-top-color: var(--fill-color);\n",
              "    }\n",
              "    30% {\n",
              "      border-color: transparent;\n",
              "      border-left-color: var(--fill-color);\n",
              "      border-top-color: var(--fill-color);\n",
              "      border-right-color: var(--fill-color);\n",
              "    }\n",
              "    40% {\n",
              "      border-color: transparent;\n",
              "      border-right-color: var(--fill-color);\n",
              "      border-top-color: var(--fill-color);\n",
              "    }\n",
              "    60% {\n",
              "      border-color: transparent;\n",
              "      border-right-color: var(--fill-color);\n",
              "    }\n",
              "    80% {\n",
              "      border-color: transparent;\n",
              "      border-right-color: var(--fill-color);\n",
              "      border-bottom-color: var(--fill-color);\n",
              "    }\n",
              "    90% {\n",
              "      border-color: transparent;\n",
              "      border-bottom-color: var(--fill-color);\n",
              "    }\n",
              "  }\n",
              "</style>\n",
              "\n",
              "      <script>\n",
              "        async function quickchart(key) {\n",
              "          const quickchartButtonEl =\n",
              "            document.querySelector('#' + key + ' button');\n",
              "          quickchartButtonEl.disabled = true;  // To prevent multiple clicks.\n",
              "          quickchartButtonEl.classList.add('colab-df-spinner');\n",
              "          try {\n",
              "            const charts = await google.colab.kernel.invokeFunction(\n",
              "                'suggestCharts', [key], {});\n",
              "          } catch (error) {\n",
              "            console.error('Error during call to suggestCharts:', error);\n",
              "          }\n",
              "          quickchartButtonEl.classList.remove('colab-df-spinner');\n",
              "          quickchartButtonEl.classList.add('colab-df-quickchart-complete');\n",
              "        }\n",
              "        (() => {\n",
              "          let quickchartButtonEl =\n",
              "            document.querySelector('#df-8d6d9a66-6aa6-416b-a6e7-c00863772464 button');\n",
              "          quickchartButtonEl.style.display =\n",
              "            google.colab.kernel.accessAllowed ? 'block' : 'none';\n",
              "        })();\n",
              "      </script>\n",
              "    </div>\n",
              "\n",
              "    </div>\n",
              "  </div>\n"
            ],
            "application/vnd.google.colaboratory.intrinsic+json": {
              "type": "dataframe",
              "summary": "{\n  \"name\": \"df_netflix\",\n  \"rows\": 8,\n  \"fields\": [\n    {\n      \"column\": \"release_year\",\n      \"properties\": {\n        \"dtype\": \"number\",\n        \"std\": 2602.1161189684894,\n        \"min\": 8.819312130834057,\n        \"max\": 8807.0,\n        \"num_unique_values\": 8,\n        \"samples\": [\n          2014.1801975701146,\n          2017.0,\n          8807.0\n        ],\n        \"semantic_type\": \"\",\n        \"description\": \"\"\n      }\n    }\n  ]\n}"
            }
          },
          "metadata": {},
          "execution_count": 69
        }
      ]
    },
    {
      "cell_type": "code",
      "source": [
        "#show_id column\n",
        "missing_values_df_netflix_show_id = df_netflix['show_id'].isna().sum()\n",
        "duplicated_values_df_netflix_show_id = df_netflix['show_id'].duplicated().sum()\n",
        "total_values_df_netflix_show_id = df_netflix['show_id'].count()\n",
        "\n",
        "print(f'Missing values-show_id column: {missing_values_df_netflix_show_id}')\n",
        "print(f'Duplicated values-show_id column: {duplicated_values_df_netflix_show_id}')\n",
        "print(f'Total values-show_id column: {total_values_df_netflix_show_id}')"
      ],
      "metadata": {
        "colab": {
          "base_uri": "https://localhost:8080/"
        },
        "id": "oxQzYGx-X7sP",
        "outputId": "dc19ce88-23b3-4724-a1ee-3088200508bc"
      },
      "execution_count": 70,
      "outputs": [
        {
          "output_type": "stream",
          "name": "stdout",
          "text": [
            "Missing values-show_id column: 0\n",
            "Duplicated values-show_id column: 0\n",
            "Total values-show_id column: 8807\n"
          ]
        }
      ]
    },
    {
      "cell_type": "code",
      "source": [
        "#type column\n",
        "missing_values_df_netflix_type = df_netflix['type'].isna().sum()\n",
        "duplicated_values_df_netflix_type = df_netflix['type'].duplicated().sum()\n",
        "total_values_df_netflix_type = df_netflix['type'].count()\n",
        "\n",
        "print(f'Missing values-type column: {missing_values_df_netflix_type}')\n",
        "print(f'Duplicated values-type column: {duplicated_values_df_netflix_type}')\n",
        "print(f'Total values-type column: {total_values_df_netflix_type}')"
      ],
      "metadata": {
        "colab": {
          "base_uri": "https://localhost:8080/"
        },
        "id": "0g3Wjd3AYaaA",
        "outputId": "d8543982-db50-4b78-e391-3ed640736b95"
      },
      "execution_count": 71,
      "outputs": [
        {
          "output_type": "stream",
          "name": "stdout",
          "text": [
            "Missing values-type column: 0\n",
            "Duplicated values-type column: 8805\n",
            "Total values-type column: 8807\n"
          ]
        }
      ]
    },
    {
      "cell_type": "code",
      "source": [
        "#title column\n",
        "missing_values_df_netflix_title = df_netflix['title'].isna().sum()\n",
        "duplicated_values_df_netflix_title = df_netflix['title'].duplicated().sum()\n",
        "total_values_df_netflix_title = df_netflix['title'].count()\n",
        "\n",
        "print(f'Missing values-title column: {missing_values_df_netflix_title}')\n",
        "print(f'Duplicated values-title column: {duplicated_values_df_netflix_title}')\n",
        "print(f'Total values-title column: {total_values_df_netflix_title}')"
      ],
      "metadata": {
        "colab": {
          "base_uri": "https://localhost:8080/"
        },
        "id": "TZiMIu8GYufq",
        "outputId": "513d2a78-373c-4fe3-fd47-f9c461af796c"
      },
      "execution_count": 72,
      "outputs": [
        {
          "output_type": "stream",
          "name": "stdout",
          "text": [
            "Missing values-title column: 0\n",
            "Duplicated values-title column: 0\n",
            "Total values-title column: 8807\n"
          ]
        }
      ]
    },
    {
      "cell_type": "code",
      "source": [
        "#director column\n",
        "missing_values_df_netflix_director = df_netflix['director'].isna().sum()\n",
        "duplicated_values_df_netflix_director = df_netflix['director'].duplicated().sum()\n",
        "total_values_df_netflix_director = df_netflix['director'].count()\n",
        "\n",
        "print(f'Missing values-director column: {missing_values_df_netflix_director}')\n",
        "print(f'Duplicated values-director column: {duplicated_values_df_netflix_director}')\n",
        "print(f'Total values-director column: {total_values_df_netflix_director}')"
      ],
      "metadata": {
        "colab": {
          "base_uri": "https://localhost:8080/"
        },
        "id": "2BFA_GVCY526",
        "outputId": "7c7d4617-0b33-4aca-b648-9ab74b5b5c69"
      },
      "execution_count": 73,
      "outputs": [
        {
          "output_type": "stream",
          "name": "stdout",
          "text": [
            "Missing values-director column: 2634\n",
            "Duplicated values-director column: 4278\n",
            "Total values-director column: 6173\n"
          ]
        }
      ]
    },
    {
      "cell_type": "code",
      "source": [
        "#cast column\n",
        "missing_values_df_netflix_cast = df_netflix['cast'].isna().sum()\n",
        "duplicated_values_df_netflix_cast = df_netflix['cast'].duplicated().sum()\n",
        "total_values_df_netflix_cast = df_netflix['cast'].count()\n",
        "\n",
        "print(f'Missing values-cast column: {missing_values_df_netflix_cast}')\n",
        "print(f'Duplicated values-cast column: {duplicated_values_df_netflix_cast}')\n",
        "print(f'Total values-cast column: {total_values_df_netflix_cast}')"
      ],
      "metadata": {
        "colab": {
          "base_uri": "https://localhost:8080/"
        },
        "id": "PSJAjjX3ZD7X",
        "outputId": "a5ff838e-94ff-4507-ef01-7777a4a3814d"
      },
      "execution_count": 74,
      "outputs": [
        {
          "output_type": "stream",
          "name": "stdout",
          "text": [
            "Missing values-cast column: 825\n",
            "Duplicated values-cast column: 1114\n",
            "Total values-cast column: 7982\n"
          ]
        }
      ]
    },
    {
      "cell_type": "code",
      "source": [
        "#country column\n",
        "missing_values_df_netflix_country = df_netflix['country'].isna().sum()\n",
        "duplicated_values_df_netflix_country = df_netflix['country'].duplicated().sum()\n",
        "total_values_df_netflix_country = df_netflix['country'].count()\n",
        "\n",
        "print(f'Missing values-country column: {missing_values_df_netflix_country}')\n",
        "print(f'Duplicated values-country column: {duplicated_values_df_netflix_country}')\n",
        "print(f'Total values-country column: {total_values_df_netflix_country}')"
      ],
      "metadata": {
        "colab": {
          "base_uri": "https://localhost:8080/"
        },
        "id": "qORB933wZNv0",
        "outputId": "65b579d6-a3ca-4fcb-8caf-224ffe7e1676"
      },
      "execution_count": 75,
      "outputs": [
        {
          "output_type": "stream",
          "name": "stdout",
          "text": [
            "Missing values-country column: 831\n",
            "Duplicated values-country column: 8058\n",
            "Total values-country column: 7976\n"
          ]
        }
      ]
    },
    {
      "cell_type": "code",
      "source": [
        "#date_added column\n",
        "missing_values_df_netflix_date_added = df_netflix['date_added'].isna().sum()\n",
        "duplicated_values_df_netflix_date_added = df_netflix['date_added'].duplicated().sum()\n",
        "total_values_df_netflix_date_added = df_netflix['date_added'].count()\n",
        "\n",
        "print(f'Missing values-date_added column: {missing_values_df_netflix_date_added}')\n",
        "print(f'Duplicated values-date_added column: {duplicated_values_df_netflix_date_added}')\n",
        "print(f'Total values-date_added column: {total_values_df_netflix_date_added}')"
      ],
      "metadata": {
        "colab": {
          "base_uri": "https://localhost:8080/"
        },
        "id": "fFoL_zFCZXfB",
        "outputId": "8ab13b0d-ad36-46bf-92bf-631e7dfccc1e"
      },
      "execution_count": 76,
      "outputs": [
        {
          "output_type": "stream",
          "name": "stdout",
          "text": [
            "Missing values-date_added column: 10\n",
            "Duplicated values-date_added column: 7039\n",
            "Total values-date_added column: 8797\n"
          ]
        }
      ]
    },
    {
      "cell_type": "code",
      "source": [
        "#release_year column\n",
        "missing_values_df_netflix_release_year = df_netflix['release_year'].isna().sum()\n",
        "duplicated_values_df_netflix_release_year = df_netflix['release_year'].duplicated().sum()\n",
        "total_values_df_netflix_release_year = df_netflix['release_year'].count()\n",
        "\n",
        "print(f'Missing values-release_year column: {missing_values_df_netflix_release_year}')\n",
        "print(f'Duplicated values-release_year column: {duplicated_values_df_netflix_release_year}')\n",
        "print(f'Total values-release_year column: {total_values_df_netflix_release_year}')"
      ],
      "metadata": {
        "colab": {
          "base_uri": "https://localhost:8080/"
        },
        "id": "NWYn0JBNZh-P",
        "outputId": "6263bacf-f1e5-4979-822c-144b30d55522"
      },
      "execution_count": 77,
      "outputs": [
        {
          "output_type": "stream",
          "name": "stdout",
          "text": [
            "Missing values-release_year column: 0\n",
            "Duplicated values-release_year column: 8733\n",
            "Total values-release_year column: 8807\n"
          ]
        }
      ]
    },
    {
      "cell_type": "code",
      "source": [
        "#rating column\n",
        "missing_values_df_netflix_rating = df_netflix['rating'].isna().sum()\n",
        "duplicated_values_df_netflix_rating = df_netflix['rating'].duplicated().sum()\n",
        "total_values_df_netflix_rating = df_netflix['rating'].count()\n",
        "\n",
        "print(f'Missing values-rating column: {missing_values_df_netflix_rating}')\n",
        "print(f'Duplicated values-rating column: {duplicated_values_df_netflix_rating}')\n",
        "print(f'Total values-rating column: {total_values_df_netflix_rating}')"
      ],
      "metadata": {
        "colab": {
          "base_uri": "https://localhost:8080/"
        },
        "id": "dZE5oHqMZsr2",
        "outputId": "e3b82d5c-5961-4c2a-cbda-496cb5b68cf3"
      },
      "execution_count": 78,
      "outputs": [
        {
          "output_type": "stream",
          "name": "stdout",
          "text": [
            "Missing values-rating column: 4\n",
            "Duplicated values-rating column: 8789\n",
            "Total values-rating column: 8803\n"
          ]
        }
      ]
    },
    {
      "cell_type": "code",
      "source": [
        "#duration column\n",
        "missing_values_df_netflix_duration = df_netflix['duration'].isna().sum()\n",
        "duplicated_values_df_netflix_duration = df_netflix['duration'].duplicated().sum()\n",
        "total_values_df_netflix_duration = df_netflix['duration'].count()\n",
        "\n",
        "print(f'Missing values-duration column: {missing_values_df_netflix_duration}')\n",
        "print(f'Duplicated values-duration column: {duplicated_values_df_netflix_duration}')\n",
        "print(f'Total values-duration column: {total_values_df_netflix_duration}')"
      ],
      "metadata": {
        "colab": {
          "base_uri": "https://localhost:8080/"
        },
        "id": "g0Fbtsq9Z3ie",
        "outputId": "6e6d4f50-f92d-47ea-8718-1d00d193153f"
      },
      "execution_count": 79,
      "outputs": [
        {
          "output_type": "stream",
          "name": "stdout",
          "text": [
            "Missing values-duration column: 3\n",
            "Duplicated values-duration column: 8586\n",
            "Total values-duration column: 8804\n"
          ]
        }
      ]
    },
    {
      "cell_type": "code",
      "source": [
        "#listed_in column\n",
        "missing_values_df_netflix_listed_in = df_netflix['listed_in'].isna().sum()\n",
        "duplicated_values_df_netflix_listed_in = df_netflix['listed_in'].duplicated().sum()\n",
        "total_values_df_netflix_listed_in = df_netflix['listed_in'].count()\n",
        "\n",
        "print(f'Missing values-listed_in column: {missing_values_df_netflix_listed_in}')\n",
        "print(f'Duplicated values-listed_in column: {duplicated_values_df_netflix_listed_in}')\n",
        "print(f'Total values-listed_in column: {total_values_df_netflix_listed_in}')"
      ],
      "metadata": {
        "colab": {
          "base_uri": "https://localhost:8080/"
        },
        "id": "rW7lQGlxaBi6",
        "outputId": "7ce8e83a-4637-4712-ba17-eb916e423e16"
      },
      "execution_count": 80,
      "outputs": [
        {
          "output_type": "stream",
          "name": "stdout",
          "text": [
            "Missing values-listed_in column: 0\n",
            "Duplicated values-listed_in column: 8293\n",
            "Total values-listed_in column: 8807\n"
          ]
        }
      ]
    },
    {
      "cell_type": "code",
      "source": [
        "#description column\n",
        "missing_values_df_netflix_description = df_netflix['description'].isna().sum()\n",
        "duplicated_values_df_netflix_description = df_netflix['description'].duplicated().sum()\n",
        "total_values_df_netflix_description = df_netflix['description'].count()\n",
        "\n",
        "print(f'Missing values-description column: {missing_values_df_netflix_description}')\n",
        "print(f'Duplicated values-description column: {duplicated_values_df_netflix_description}')\n",
        "print(f'Total values-description column: {total_values_df_netflix_description}')"
      ],
      "metadata": {
        "colab": {
          "base_uri": "https://localhost:8080/"
        },
        "id": "iJP3KkdNaMdB",
        "outputId": "16453231-5316-4d86-d794-d48ef4eb0f45"
      },
      "execution_count": 81,
      "outputs": [
        {
          "output_type": "stream",
          "name": "stdout",
          "text": [
            "Missing values-description column: 0\n",
            "Duplicated values-description column: 32\n",
            "Total values-description column: 8807\n"
          ]
        }
      ]
    },
    {
      "cell_type": "markdown",
      "source": [
        "##Data Cleaning"
      ],
      "metadata": {
        "id": "UqaKH8r0ZlWw"
      }
    },
    {
      "cell_type": "code",
      "source": [
        "#show_id column\n",
        "\n",
        "#Missing values-show_id column: 0\n",
        "#Duplicated values-show_id column: 0\n",
        "#Total values-show_id column: 8807\n",
        "\n",
        "#8807 total values, let's convert to string, strip of white spaces, and make sure that each show_id\n",
        "#follows this pattern s[i] where i goes from 1 to 8807\n",
        "\n",
        "#convert to string\n",
        "df_netflix['show_id'] = df_netflix['show_id'].astype(str)\n",
        "\n",
        "#strip of white spaces\n",
        "df_netflix['show_id'] = df_netflix['show_id'].str.strip()\n",
        "\n",
        "#make sure all values converted to str\n",
        "df_netflix['show_id'].map(type).unique()\n",
        "\n",
        "#sometimes CSV or Excel imports add invisible characters that strip() won’t catch\n",
        "#this keeps only standard ASCII characters\n",
        "df_netflix['show_id'] = df_netflix['show_id'].str.replace(r\"[^\\x00-\\x7F]+\", \"\", regex=True)\n",
        "\n",
        "import re\n",
        "\n",
        "#define the regex pattern\n",
        "pattern_s = r\"^s\\d+$\"   # starts with 's' followed by one or more digits\n",
        "\n",
        "#check which rows match the pattern\n",
        "mask = df_netflix['show_id'].str.match(pattern_s)\n",
        "\n",
        "#see how many don't match\n",
        "invalid_count = (~mask).sum()\n",
        "print(f\"Number of invalid show_id entries: {invalid_count}\")\n",
        "\n",
        "print(\"show_id column is fully clean and validated\")"
      ],
      "metadata": {
        "colab": {
          "base_uri": "https://localhost:8080/"
        },
        "id": "-X62Q-ziZtBx",
        "outputId": "5d72061b-04dc-4d4f-821a-82b871043c61"
      },
      "execution_count": 82,
      "outputs": [
        {
          "output_type": "stream",
          "name": "stdout",
          "text": [
            "Number of invalid show_id entries: 0\n",
            "show_id column is fully clean and validated\n"
          ]
        }
      ]
    },
    {
      "cell_type": "code",
      "source": [
        "#type column\n",
        "\n",
        "#Missing values-type column: 0\n",
        "#Duplicated values-type column: 8805\n",
        "#Total values-type column: 8807\n",
        "\n",
        "#looks like it only stores 2 values: \"Movie\" & \"TV Show\"\n",
        "\n",
        "#convert to string\n",
        "df_netflix['type'] = df_netflix['type'].astype(str)\n",
        "\n",
        "#strip of white spaces\n",
        "df_netflix['type'] = df_netflix['type'].str.strip()\n",
        "\n",
        "#make sure all values converted to str\n",
        "df_netflix['type'].map(type).unique()\n",
        "\n",
        "#sometimes CSV or Excel imports add invisible characters that strip() won’t catch\n",
        "#this keeps only standard ASCII characters\n",
        "df_netflix['type'] = df_netflix['type'].str.replace(r\"[^\\x00-\\x7F]+\", \"\", regex=True)\n",
        "\n",
        "import re\n",
        "\n",
        "#define the regex pattern (only \"Movie\" or \"TV Show\", case-sensitive)\n",
        "pattern_t = r\"^(Movie|TV Show)$\"\n",
        "\n",
        "#check which rows match the pattern\n",
        "mask = df_netflix['type'].str.match(pattern_t)\n",
        "\n",
        "#see how many don't match\n",
        "invalid_count = (~mask).sum()\n",
        "print(f\"Number of invalid show_id entries: {invalid_count}\")\n",
        "\n",
        "print(\"type column is fully clean and validated\")"
      ],
      "metadata": {
        "colab": {
          "base_uri": "https://localhost:8080/"
        },
        "id": "2XWL3SdPcgFn",
        "outputId": "f0afd670-4dd7-4e26-b6c9-966bf48b26b0"
      },
      "execution_count": 83,
      "outputs": [
        {
          "output_type": "stream",
          "name": "stdout",
          "text": [
            "Number of invalid show_id entries: 0\n",
            "type column is fully clean and validated\n"
          ]
        }
      ]
    },
    {
      "cell_type": "code",
      "source": [
        "#title column\n",
        "\n",
        "#Missing values-title column: 0\n",
        "#Duplicated values-title column: 0\n",
        "#Total values-title column: 8807\n",
        "\n",
        "#convert to string\n",
        "df_netflix['title'] = df_netflix['title'].astype(str)\n",
        "\n",
        "#on this column I don't need to strip of white spaces\n",
        "\n",
        "#check how many countries have special characters\n",
        "#regex pattern: anything that is not a letter, number, space\n",
        "pattern = r\"[^a-zA-Z0-9\\s]\"\n",
        "\n",
        "#create a boolean column: True if the title contains special characters\n",
        "df_netflix['has_special_char'] = df_netflix['title'].str.contains(pattern)\n",
        "\n",
        "#count how many titles have special characters\n",
        "special_char_count = df_netflix['has_special_char'].sum()\n",
        "print(f\"Titles with special characters: {special_char_count}\")\n",
        "\n",
        "#see which titles have special characters\n",
        "df_netflix[df_netflix['has_special_char']]\n",
        "\n",
        "#show the first 50 titles that contain special characters\n",
        "df_netflix[df_netflix['has_special_char']]['title'].head(50)"
      ],
      "metadata": {
        "colab": {
          "base_uri": "https://localhost:8080/",
          "height": 1000
        },
        "collapsed": true,
        "id": "LkyJGtEMP--1",
        "outputId": "24d0ce3a-2aeb-443a-e9a1-9e37117b01fd"
      },
      "execution_count": 84,
      "outputs": [
        {
          "output_type": "stream",
          "name": "stdout",
          "text": [
            "Titles with special characters: 2529\n"
          ]
        },
        {
          "output_type": "execute_result",
          "data": {
            "text/plain": [
              "1                                          Blood & Water\n",
              "6                       My Little Pony: A New Generation\n",
              "10                   Vendetta: Truth, Lies and The Mafia\n",
              "14                       Crime Stories: India Detectives\n",
              "16     Europe's Most Dangerous Man: Otto Skorzeny in ...\n",
              "20       Monsters Inside: The 24 Faces of Billy Milligan\n",
              "21                                Resurrection: Ertugrul\n",
              "23          Go! Go! Cory Carson: Chrissy Takes the Wheel\n",
              "40                He-Man and the Masters of the Universe\n",
              "44                                     Jaws: The Revenge\n",
              "51     InuYasha the Movie 2: The Castle Beyond the Lo...\n",
              "52     InuYasha the Movie 3: Swords of an Honorable R...\n",
              "53       InuYasha the Movie 4: Fire on the Mystic Island\n",
              "54     InuYasha the Movie: Affections Touching Across...\n",
              "56              Naruto Shippuden the Movie: Blood Prison\n",
              "57                     Naruto Shippûden the Movie: Bonds\n",
              "58          Naruto Shippûden the Movie: The Will of Fire\n",
              "59                           Naruto Shippuden: The Movie\n",
              "60           Naruto Shippuden: The Movie: The Lost Tower\n",
              "61      Naruto the Movie 2: Legend of the Stone of Gelel\n",
              "62     Naruto the Movie 3: Guardians of the Crescent ...\n",
              "63     Naruto the Movie: Ninja Clash in the Land of Snow\n",
              "70                             Too Hot To Handle: Latino\n",
              "72                Jack Whitehall: Travels with My Father\n",
              "74             The World's Most Amazing Vacation Rentals\n",
              "75                                You vs. Wild: Out Cold\n",
              "77                         Little Singham - Black Shadow\n",
              "79                               Tughlaq Durbar (Telugu)\n",
              "84                                  Omo Ghetto: the Saga\n",
              "85                   Pokémon Master Journeys: The Series\n",
              "88              Blood Brothers: Malcolm X & Muhammad Ali\n",
              "93                                                  JJ+E\n",
              "96     If I Leave Here Tomorrow: A Film About Lynyrd ...\n",
              "98                             Octonauts: Above & Beyond\n",
              "101                               Untold: Breaking Point\n",
              "102             Countdown: Inspiration4 Mission to Space\n",
              "106                                               Bunk'd\n",
              "110                    Money Heist: From Tokyo to Berlin\n",
              "124                          Pororo - The Little Penguin\n",
              "125                                              Q-Force\n",
              "128                      Agatha Christie's Crooked House\n",
              "131                          Blade Runner: The Final Cut\n",
              "140                  El patrón, radiografía de un crimen\n",
              "152                        Janoskians: Untold and Untrue\n",
              "153                                           Kid-E-Cats\n",
              "154                                  Kuroko's Basketball\n",
              "158                              Love Don't Cost a Thing\n",
              "161                                        Mars Attacks!\n",
              "163                                   My Boss's Daughter\n",
              "170                                       Rhyme & Reason\n",
              "Name: title, dtype: object"
            ],
            "text/html": [
              "<div>\n",
              "<style scoped>\n",
              "    .dataframe tbody tr th:only-of-type {\n",
              "        vertical-align: middle;\n",
              "    }\n",
              "\n",
              "    .dataframe tbody tr th {\n",
              "        vertical-align: top;\n",
              "    }\n",
              "\n",
              "    .dataframe thead th {\n",
              "        text-align: right;\n",
              "    }\n",
              "</style>\n",
              "<table border=\"1\" class=\"dataframe\">\n",
              "  <thead>\n",
              "    <tr style=\"text-align: right;\">\n",
              "      <th></th>\n",
              "      <th>title</th>\n",
              "    </tr>\n",
              "  </thead>\n",
              "  <tbody>\n",
              "    <tr>\n",
              "      <th>1</th>\n",
              "      <td>Blood &amp; Water</td>\n",
              "    </tr>\n",
              "    <tr>\n",
              "      <th>6</th>\n",
              "      <td>My Little Pony: A New Generation</td>\n",
              "    </tr>\n",
              "    <tr>\n",
              "      <th>10</th>\n",
              "      <td>Vendetta: Truth, Lies and The Mafia</td>\n",
              "    </tr>\n",
              "    <tr>\n",
              "      <th>14</th>\n",
              "      <td>Crime Stories: India Detectives</td>\n",
              "    </tr>\n",
              "    <tr>\n",
              "      <th>16</th>\n",
              "      <td>Europe's Most Dangerous Man: Otto Skorzeny in ...</td>\n",
              "    </tr>\n",
              "    <tr>\n",
              "      <th>20</th>\n",
              "      <td>Monsters Inside: The 24 Faces of Billy Milligan</td>\n",
              "    </tr>\n",
              "    <tr>\n",
              "      <th>21</th>\n",
              "      <td>Resurrection: Ertugrul</td>\n",
              "    </tr>\n",
              "    <tr>\n",
              "      <th>23</th>\n",
              "      <td>Go! Go! Cory Carson: Chrissy Takes the Wheel</td>\n",
              "    </tr>\n",
              "    <tr>\n",
              "      <th>40</th>\n",
              "      <td>He-Man and the Masters of the Universe</td>\n",
              "    </tr>\n",
              "    <tr>\n",
              "      <th>44</th>\n",
              "      <td>Jaws: The Revenge</td>\n",
              "    </tr>\n",
              "    <tr>\n",
              "      <th>51</th>\n",
              "      <td>InuYasha the Movie 2: The Castle Beyond the Lo...</td>\n",
              "    </tr>\n",
              "    <tr>\n",
              "      <th>52</th>\n",
              "      <td>InuYasha the Movie 3: Swords of an Honorable R...</td>\n",
              "    </tr>\n",
              "    <tr>\n",
              "      <th>53</th>\n",
              "      <td>InuYasha the Movie 4: Fire on the Mystic Island</td>\n",
              "    </tr>\n",
              "    <tr>\n",
              "      <th>54</th>\n",
              "      <td>InuYasha the Movie: Affections Touching Across...</td>\n",
              "    </tr>\n",
              "    <tr>\n",
              "      <th>56</th>\n",
              "      <td>Naruto Shippuden the Movie: Blood Prison</td>\n",
              "    </tr>\n",
              "    <tr>\n",
              "      <th>57</th>\n",
              "      <td>Naruto Shippûden the Movie: Bonds</td>\n",
              "    </tr>\n",
              "    <tr>\n",
              "      <th>58</th>\n",
              "      <td>Naruto Shippûden the Movie: The Will of Fire</td>\n",
              "    </tr>\n",
              "    <tr>\n",
              "      <th>59</th>\n",
              "      <td>Naruto Shippuden: The Movie</td>\n",
              "    </tr>\n",
              "    <tr>\n",
              "      <th>60</th>\n",
              "      <td>Naruto Shippuden: The Movie: The Lost Tower</td>\n",
              "    </tr>\n",
              "    <tr>\n",
              "      <th>61</th>\n",
              "      <td>Naruto the Movie 2: Legend of the Stone of Gelel</td>\n",
              "    </tr>\n",
              "    <tr>\n",
              "      <th>62</th>\n",
              "      <td>Naruto the Movie 3: Guardians of the Crescent ...</td>\n",
              "    </tr>\n",
              "    <tr>\n",
              "      <th>63</th>\n",
              "      <td>Naruto the Movie: Ninja Clash in the Land of Snow</td>\n",
              "    </tr>\n",
              "    <tr>\n",
              "      <th>70</th>\n",
              "      <td>Too Hot To Handle: Latino</td>\n",
              "    </tr>\n",
              "    <tr>\n",
              "      <th>72</th>\n",
              "      <td>Jack Whitehall: Travels with My Father</td>\n",
              "    </tr>\n",
              "    <tr>\n",
              "      <th>74</th>\n",
              "      <td>The World's Most Amazing Vacation Rentals</td>\n",
              "    </tr>\n",
              "    <tr>\n",
              "      <th>75</th>\n",
              "      <td>You vs. Wild: Out Cold</td>\n",
              "    </tr>\n",
              "    <tr>\n",
              "      <th>77</th>\n",
              "      <td>Little Singham - Black Shadow</td>\n",
              "    </tr>\n",
              "    <tr>\n",
              "      <th>79</th>\n",
              "      <td>Tughlaq Durbar (Telugu)</td>\n",
              "    </tr>\n",
              "    <tr>\n",
              "      <th>84</th>\n",
              "      <td>Omo Ghetto: the Saga</td>\n",
              "    </tr>\n",
              "    <tr>\n",
              "      <th>85</th>\n",
              "      <td>Pokémon Master Journeys: The Series</td>\n",
              "    </tr>\n",
              "    <tr>\n",
              "      <th>88</th>\n",
              "      <td>Blood Brothers: Malcolm X &amp; Muhammad Ali</td>\n",
              "    </tr>\n",
              "    <tr>\n",
              "      <th>93</th>\n",
              "      <td>JJ+E</td>\n",
              "    </tr>\n",
              "    <tr>\n",
              "      <th>96</th>\n",
              "      <td>If I Leave Here Tomorrow: A Film About Lynyrd ...</td>\n",
              "    </tr>\n",
              "    <tr>\n",
              "      <th>98</th>\n",
              "      <td>Octonauts: Above &amp; Beyond</td>\n",
              "    </tr>\n",
              "    <tr>\n",
              "      <th>101</th>\n",
              "      <td>Untold: Breaking Point</td>\n",
              "    </tr>\n",
              "    <tr>\n",
              "      <th>102</th>\n",
              "      <td>Countdown: Inspiration4 Mission to Space</td>\n",
              "    </tr>\n",
              "    <tr>\n",
              "      <th>106</th>\n",
              "      <td>Bunk'd</td>\n",
              "    </tr>\n",
              "    <tr>\n",
              "      <th>110</th>\n",
              "      <td>Money Heist: From Tokyo to Berlin</td>\n",
              "    </tr>\n",
              "    <tr>\n",
              "      <th>124</th>\n",
              "      <td>Pororo - The Little Penguin</td>\n",
              "    </tr>\n",
              "    <tr>\n",
              "      <th>125</th>\n",
              "      <td>Q-Force</td>\n",
              "    </tr>\n",
              "    <tr>\n",
              "      <th>128</th>\n",
              "      <td>Agatha Christie's Crooked House</td>\n",
              "    </tr>\n",
              "    <tr>\n",
              "      <th>131</th>\n",
              "      <td>Blade Runner: The Final Cut</td>\n",
              "    </tr>\n",
              "    <tr>\n",
              "      <th>140</th>\n",
              "      <td>El patrón, radiografía de un crimen</td>\n",
              "    </tr>\n",
              "    <tr>\n",
              "      <th>152</th>\n",
              "      <td>Janoskians: Untold and Untrue</td>\n",
              "    </tr>\n",
              "    <tr>\n",
              "      <th>153</th>\n",
              "      <td>Kid-E-Cats</td>\n",
              "    </tr>\n",
              "    <tr>\n",
              "      <th>154</th>\n",
              "      <td>Kuroko's Basketball</td>\n",
              "    </tr>\n",
              "    <tr>\n",
              "      <th>158</th>\n",
              "      <td>Love Don't Cost a Thing</td>\n",
              "    </tr>\n",
              "    <tr>\n",
              "      <th>161</th>\n",
              "      <td>Mars Attacks!</td>\n",
              "    </tr>\n",
              "    <tr>\n",
              "      <th>163</th>\n",
              "      <td>My Boss's Daughter</td>\n",
              "    </tr>\n",
              "    <tr>\n",
              "      <th>170</th>\n",
              "      <td>Rhyme &amp; Reason</td>\n",
              "    </tr>\n",
              "  </tbody>\n",
              "</table>\n",
              "</div><br><label><b>dtype:</b> object</label>"
            ]
          },
          "metadata": {},
          "execution_count": 84
        }
      ]
    },
    {
      "cell_type": "code",
      "source": [
        "#director column\n",
        "\n",
        "#Missing values-director column: 2634 [Initial]\n",
        "#Duplicated values-director column: 4278\n",
        "#Total values-director column: 6173\n",
        "\n",
        "#convert to string\n",
        "df_netflix['director'] = df_netflix['director'].astype(str)\n",
        "\n",
        "#on this column I don't need to strip of white spaces\n",
        "\n",
        "#check how many countries have special characters\n",
        "#regex pattern: anything that is not a letter, number, space\n",
        "pattern = r\"[^a-zA-Z0-9\\s]\"\n",
        "\n",
        "#create a boolean column: True if the director contains special characters\n",
        "df_netflix['has_special_char'] = df_netflix['director'].str.contains(pattern)\n",
        "\n",
        "#count how many directors have special characters\n",
        "special_char_count = df_netflix['has_special_char'].sum()\n",
        "print(f\"Directors with special characters: {special_char_count}\")\n",
        "\n",
        "#count all commas that directors have\n",
        "comma_count = df_netflix['director'].str.contains(',').sum()\n",
        "print(f\"Directors with a comma: {comma_count}\")\n",
        "\n",
        "#see which directors have special characters\n",
        "df_netflix[df_netflix['has_special_char']]\n",
        "\n",
        "#show the first 50 directors that contain special characters\n",
        "df_netflix[df_netflix['has_special_char']]['director'].head(50)\n",
        "\n",
        "#handle missing values\n",
        "df_netflix['director'].fillna('Unknown', inplace=True)"
      ],
      "metadata": {
        "colab": {
          "base_uri": "https://localhost:8080/"
        },
        "id": "8hC4Yaw2UEk6",
        "outputId": "8e12b9d0-b70e-4896-8dc9-7ea6f75375b9",
        "collapsed": true
      },
      "execution_count": 85,
      "outputs": [
        {
          "output_type": "stream",
          "name": "stdout",
          "text": [
            "Directors with special characters: 1314\n",
            "Directors with a comma: 614\n"
          ]
        }
      ]
    },
    {
      "cell_type": "code",
      "source": [
        "#cast column\n",
        "\n",
        "#Missing values-cast column: 825 [Initial]\n",
        "#Duplicated values-cast column: 1114\n",
        "#Total values-cast column: 7982\n",
        "\n",
        "#convert to string\n",
        "df_netflix['cast'] = df_netflix['cast'].astype(str)\n",
        "\n",
        "#on this column I don't need to strip of white spaces\n",
        "\n",
        "#check how many countries have special characters\n",
        "#regex pattern: anything that is not a letter, number, space\n",
        "pattern = r\"[^a-zA-Z0-9\\s]\"\n",
        "\n",
        "#create a boolean column: True if the cast members contains special characters\n",
        "df_netflix['has_special_char'] = df_netflix['cast'].str.contains(pattern)\n",
        "\n",
        "#count how many cast members have special characters\n",
        "special_char_count = df_netflix['has_special_char'].sum()\n",
        "print(f\"Cast members with special characters: {special_char_count}\")\n",
        "\n",
        "#count all commas that cast members have\n",
        "comma_count = df_netflix['cast'].str.contains(',').sum()\n",
        "print(f\"Cast members with a comma: {comma_count}\")\n",
        "\n",
        "#see which cast members have special characters\n",
        "df_netflix[df_netflix['has_special_char']]\n",
        "\n",
        "#show the first 50 cast members that contain special characters\n",
        "df_netflix[df_netflix['has_special_char']]['cast'].head(50)\n",
        "\n",
        "#handle missing values\n",
        "df_netflix['cast'].fillna('Unknown', inplace=True)"
      ],
      "metadata": {
        "colab": {
          "base_uri": "https://localhost:8080/"
        },
        "id": "JnL2XWRyRwu3",
        "outputId": "cae8dcbe-d16d-4e60-93d0-79b5900597ff"
      },
      "execution_count": 86,
      "outputs": [
        {
          "output_type": "stream",
          "name": "stdout",
          "text": [
            "Cast members with special characters: 7180\n",
            "Cast members with a comma: 7101\n"
          ]
        }
      ]
    },
    {
      "cell_type": "code",
      "source": [
        "#country column\n",
        "\n",
        "#Missing values-country column: 831 [Initial]\n",
        "#Duplicated values-country column: 8058\n",
        "#Total values-country column: 7976\n",
        "\n",
        "#convert to string\n",
        "df_netflix['country'] = df_netflix['country'].astype(str)\n",
        "\n",
        "#strip of white spaces\n",
        "df_netflix['country'] = df_netflix['country'].str.strip()\n",
        "\n",
        "#check how many countries have special characters\n",
        "#regex pattern: anything that is not a letter, number, space\n",
        "pattern = r\"[^a-zA-Z0-9\\s]\"\n",
        "\n",
        "#create a boolean column: True if the countries contain special characters\n",
        "df_netflix['has_special_char'] = df_netflix['country'].str.contains(pattern)\n",
        "\n",
        "#count how many countries have special characters\n",
        "special_char_count = df_netflix['has_special_char'].sum()\n",
        "print(f\"Countries with special characters: {special_char_count}\")\n",
        "\n",
        "#count all commas that countries have\n",
        "comma_count = df_netflix['country'].str.contains(',').sum()\n",
        "print(f\"Countries with a comma: {comma_count}\")\n",
        "\n",
        "#see which countries have special characters\n",
        "df_netflix[df_netflix['has_special_char']]\n",
        "\n",
        "#show the first 50 countries that contain special characters\n",
        "df_netflix[df_netflix['has_special_char']]['country'].head(50)\n",
        "\n",
        "#handle missing values\n",
        "df_netflix['country'].fillna('Unknown', inplace=True)"
      ],
      "metadata": {
        "colab": {
          "base_uri": "https://localhost:8080/"
        },
        "id": "3a_jjkUJVn71",
        "outputId": "8c637d54-f2cf-410e-fadf-8c891189fcde"
      },
      "execution_count": 87,
      "outputs": [
        {
          "output_type": "stream",
          "name": "stdout",
          "text": [
            "Countries with special characters: 1320\n",
            "Countries with a comma: 1320\n"
          ]
        }
      ]
    },
    {
      "cell_type": "code",
      "source": [
        "#date_added column\n",
        "\n",
        "#Missing values-date_added column: 10\n",
        "#Duplicated values-date_added column: 7039\n",
        "#Total values-date_added column: 8797\n",
        "\n",
        "#convert to date type, strip off white spaces and coerce invalid formats to NaT\n",
        "df_netflix['date_added'] = pd.to_datetime(df_netflix['date_added'].astype(str).str.strip(), errors='coerce')\n",
        "\n",
        "#confirm the conversion\n",
        "df_netflix['date_added'].dtype\n",
        "\n",
        "#confirm missing values are NaT (10 missing values -> output: np.int64(10))\n",
        "df_netflix['date_added'].isna().sum()"
      ],
      "metadata": {
        "colab": {
          "base_uri": "https://localhost:8080/"
        },
        "id": "U-alAD_Gixlr",
        "outputId": "eae9c65e-d2a5-4bf8-f662-cde49beb25cb"
      },
      "execution_count": 88,
      "outputs": [
        {
          "output_type": "execute_result",
          "data": {
            "text/plain": [
              "np.int64(10)"
            ]
          },
          "metadata": {},
          "execution_count": 88
        }
      ]
    },
    {
      "cell_type": "code",
      "source": [
        "#release_year column\n",
        "\n",
        "#Missing values-release_year column: 0\n",
        "#Duplicated values-release_year column: 8733\n",
        "#Total values-release_year column: 8807\n",
        "\n",
        "#convert to int\n",
        "df_netflix['release_year'] = df_netflix['release_year'].astype(int)\n",
        "\n",
        "#convert release_year to string for regex checking\n",
        "release_year_str = df_netflix['release_year'].astype(str)\n",
        "\n",
        "#regex pattern for 4-digit years\n",
        "pattern = r'^\\d{4}$'\n",
        "\n",
        "#boolean mask -> true if it matches 4-digit pattern\n",
        "is_valid_year = release_year_str.str.match(pattern)\n",
        "\n",
        "#count how many are valid 4-digit years\n",
        "valid_count = is_valid_year.sum()\n",
        "\n",
        "#count how many are not valid\n",
        "invalid_count = (~is_valid_year).sum()\n",
        "\n",
        "print(f\"Valid 4-digit release_year: {valid_count}\")\n",
        "print(f\"Invalid release_year: {invalid_count}\")"
      ],
      "metadata": {
        "colab": {
          "base_uri": "https://localhost:8080/"
        },
        "id": "f3xnPVW2mb0n",
        "outputId": "c465dfb6-094a-410e-eaac-d4b22de066bc"
      },
      "execution_count": 89,
      "outputs": [
        {
          "output_type": "stream",
          "name": "stdout",
          "text": [
            "Valid 4-digit release_year: 8807\n",
            "Invalid release_year: 0\n"
          ]
        }
      ]
    },
    {
      "cell_type": "code",
      "source": [
        "#rating column -> common values: PG-13, TV-MA, PG, TV-14, TV-PG, TV-Y, TV-Y7, R\n",
        "\n",
        "#Missing values-rating column: 4 [Initial]\n",
        "#Duplicated values-rating column: 8789\n",
        "#Total values-rating column: 8803\n",
        "\n",
        "#convert rating to string, strip of white spaces, handle missing values\n",
        "df_netflix['rating'] = df_netflix['rating'].astype(str).str.strip().fillna('Unknown')\n",
        "\n",
        "#confirm most common values\n",
        "rating_counts = df_netflix['rating'].value_counts()\n",
        "print(rating_counts)\n",
        "\n",
        "#clean anomalies (66 min, 74 min, 84 min)\n",
        "valid_ratings = {\n",
        "    'PG-13', 'TV-MA', 'PG', 'TV-14', 'TV-PG',\n",
        "    'TV-Y', 'TV-Y7', 'R', 'TV-G', 'NR', 'G', 'TV-Y7-FV', 'NC-17', 'UR', 'Unknown'\n",
        "}\n",
        "\n",
        "df_netflix['rating'] = df_netflix['rating'].apply(lambda x: x if x in valid_ratings else 'Unknown')"
      ],
      "metadata": {
        "colab": {
          "base_uri": "https://localhost:8080/"
        },
        "id": "fOu92MpKpLw7",
        "outputId": "41b79040-6493-404d-905b-255c94330410"
      },
      "execution_count": 90,
      "outputs": [
        {
          "output_type": "stream",
          "name": "stdout",
          "text": [
            "rating\n",
            "TV-MA       3207\n",
            "TV-14       2160\n",
            "TV-PG        863\n",
            "R            799\n",
            "PG-13        490\n",
            "TV-Y7        334\n",
            "TV-Y         307\n",
            "PG           287\n",
            "TV-G         220\n",
            "NR            80\n",
            "G             41\n",
            "TV-Y7-FV       6\n",
            "nan            4\n",
            "NC-17          3\n",
            "UR             3\n",
            "66 min         1\n",
            "74 min         1\n",
            "84 min         1\n",
            "Name: count, dtype: int64\n"
          ]
        }
      ]
    },
    {
      "cell_type": "code",
      "source": [
        "#duration column -> common values: 1 Season, 90 min, 2 Seasons, 125 min, 9 Seasons\n",
        "\n",
        "#Missing values-duration column: 3 [Initial]\n",
        "#Duplicated values-duration column: 8586\n",
        "#Total values-duration column: 8804\n",
        "\n",
        "#convert rating to string, strip of white spaces, handle missing values\n",
        "df_netflix['duration'] = df_netflix['duration'].astype(str).str.strip().fillna('Unknown')\n",
        "\n",
        "#remove all whitespace characters, including hidden ones\n",
        "df_netflix['duration'] = df_netflix['duration'].str.replace(r'\\s+', '', regex=True)\n",
        "\n",
        "#define regex patterns\n",
        "pattern_season_singular = r'^\\d+Season$'\n",
        "pattern_season_plural = r'^\\d+Seasons$'\n",
        "pattern_minutes = r'^\\d+min$'\n",
        "\n",
        "#create masks and check how many values are matching the pattern\n",
        "mask_season = df_netflix['duration'].str.match(pattern_season_singular)\n",
        "mask_seasons = df_netflix['duration'].str.match(pattern_season_plural)\n",
        "mask_min = df_netflix['duration'].str.match(pattern_minutes)\n",
        "\n",
        "#combine all valid masks into one\n",
        "mask_valid = mask_season | mask_seasons | mask_min\n",
        "\n",
        "#count how many values are valid vs invalid\n",
        "valid_count = mask_valid.sum()\n",
        "invalid_count = (~mask_valid).sum()\n",
        "\n",
        "print(f\"Valid duration values: {valid_count}\")\n",
        "print(f\"Invalid duration values: {invalid_count}\")\n",
        "\n",
        "#display invalid ones\n",
        "df_netflix.loc[~mask_valid, 'duration'].value_counts()\n",
        "\n",
        "#df_netflix['duration'].value_counts()"
      ],
      "metadata": {
        "colab": {
          "base_uri": "https://localhost:8080/",
          "height": 181
        },
        "id": "cIv2vvN3gAyx",
        "outputId": "5e8201ef-2035-4f6e-c3ca-15ffd5257cd2"
      },
      "execution_count": 91,
      "outputs": [
        {
          "output_type": "stream",
          "name": "stdout",
          "text": [
            "Valid duration values: 8804\n",
            "Invalid duration values: 3\n"
          ]
        },
        {
          "output_type": "execute_result",
          "data": {
            "text/plain": [
              "duration\n",
              "nan    3\n",
              "Name: count, dtype: int64"
            ],
            "text/html": [
              "<div>\n",
              "<style scoped>\n",
              "    .dataframe tbody tr th:only-of-type {\n",
              "        vertical-align: middle;\n",
              "    }\n",
              "\n",
              "    .dataframe tbody tr th {\n",
              "        vertical-align: top;\n",
              "    }\n",
              "\n",
              "    .dataframe thead th {\n",
              "        text-align: right;\n",
              "    }\n",
              "</style>\n",
              "<table border=\"1\" class=\"dataframe\">\n",
              "  <thead>\n",
              "    <tr style=\"text-align: right;\">\n",
              "      <th></th>\n",
              "      <th>count</th>\n",
              "    </tr>\n",
              "    <tr>\n",
              "      <th>duration</th>\n",
              "      <th></th>\n",
              "    </tr>\n",
              "  </thead>\n",
              "  <tbody>\n",
              "    <tr>\n",
              "      <th>nan</th>\n",
              "      <td>3</td>\n",
              "    </tr>\n",
              "  </tbody>\n",
              "</table>\n",
              "</div><br><label><b>dtype:</b> int64</label>"
            ]
          },
          "metadata": {},
          "execution_count": 91
        }
      ]
    },
    {
      "cell_type": "code",
      "source": [
        "#listed_in column\n",
        "\n",
        "#Missing values-listed_in column: 0\n",
        "#Duplicated values-listed_in column: 8293\n",
        "#Total values-listed_in column: 8807\n",
        "\n",
        "#convert listed_in to string\n",
        "df_netflix['listed_in'] = df_netflix['listed_in'].astype(str)\n",
        "\n",
        "#confirm most common values\n",
        "listed_in_counts = df_netflix['listed_in'].value_counts()\n",
        "print(listed_in_counts)\n",
        "\n",
        "#remove unnecessary single quotes and any leading/trailing whitespace\n",
        "#example: \"Kids' TV\" → \"Kids TV\"\n",
        "df_netflix['listed_in'] = (\n",
        "    df_netflix['listed_in']\n",
        "    .str.replace(\"'\", \"\", regex=False)  #remove single quotes\n",
        "    .str.strip()  #removes spaces at the beginning and end of the entire string, not the ones inside it\n",
        "    .str.replace(r'\\s*,\\s*', ',', regex=True)  #remove spaces around commas\n",
        ")\n",
        "\n",
        "#example of correct values -> [Reality TV], [TV Horror, Teen TV Shows]\n",
        "#[TV Action & Adventure, TV Sci-Fi & Fantasy], [International TV Shows, Romantic TV Shows, TV Dramas]\n",
        "#define regex pattern (allows letters, spaces, '&', and '-' within values; comma separates values)\n",
        "pattern_valid = r'^[A-Za-z&\\-\\s]+(,\\s*[A-Za-z&\\-\\s]+)*$'\n",
        "\n",
        "#create mask for valid vs invalid values\n",
        "mask_valid = df_netflix['listed_in'].str.match(pattern_valid)\n",
        "\n",
        "#count valid vs invalid\n",
        "print(f\"Valid 'listed_in' values: {mask_valid.sum()}\")\n",
        "print(f\"Invalid 'listed_in' values: {(~mask_valid).sum()}\")\n",
        "\n",
        "#display invalid ones\n",
        "df_netflix.loc[~mask_valid, 'listed_in'].value_counts()"
      ],
      "metadata": {
        "colab": {
          "base_uri": "https://localhost:8080/",
          "height": 375
        },
        "id": "eNibhkkm6I8e",
        "outputId": "33d811dc-93a6-42f2-be86-65bd02989dee"
      },
      "execution_count": 92,
      "outputs": [
        {
          "output_type": "stream",
          "name": "stdout",
          "text": [
            "listed_in\n",
            "Dramas, International Movies                        362\n",
            "Documentaries                                       359\n",
            "Stand-Up Comedy                                     334\n",
            "Comedies, Dramas, International Movies              274\n",
            "Dramas, Independent Movies, International Movies    252\n",
            "                                                   ... \n",
            "Action & Adventure, Cult Movies                       1\n",
            "Action & Adventure, Comedies, Music & Musicals        1\n",
            "Classic Movies, Horror Movies, Thrillers              1\n",
            "Children & Family Movies, Classic Movies, Dramas      1\n",
            "Cult Movies, Dramas, Thrillers                        1\n",
            "Name: count, Length: 514, dtype: int64\n",
            "Valid 'listed_in' values: 8807\n",
            "Invalid 'listed_in' values: 0\n"
          ]
        },
        {
          "output_type": "execute_result",
          "data": {
            "text/plain": [
              "Series([], Name: count, dtype: int64)"
            ],
            "text/html": [
              "<div>\n",
              "<style scoped>\n",
              "    .dataframe tbody tr th:only-of-type {\n",
              "        vertical-align: middle;\n",
              "    }\n",
              "\n",
              "    .dataframe tbody tr th {\n",
              "        vertical-align: top;\n",
              "    }\n",
              "\n",
              "    .dataframe thead th {\n",
              "        text-align: right;\n",
              "    }\n",
              "</style>\n",
              "<table border=\"1\" class=\"dataframe\">\n",
              "  <thead>\n",
              "    <tr style=\"text-align: right;\">\n",
              "      <th></th>\n",
              "      <th>count</th>\n",
              "    </tr>\n",
              "    <tr>\n",
              "      <th>listed_in</th>\n",
              "      <th></th>\n",
              "    </tr>\n",
              "  </thead>\n",
              "  <tbody>\n",
              "  </tbody>\n",
              "</table>\n",
              "</div><br><label><b>dtype:</b> int64</label>"
            ]
          },
          "metadata": {},
          "execution_count": 92
        }
      ]
    },
    {
      "cell_type": "code",
      "source": [
        "#description column\n",
        "\n",
        "#Missing values-description column: 0\n",
        "\n",
        "#Duplicated values-description column: 32 -> this counts all rows that are duplicates of a\n",
        "#previous row in the original description column\n",
        "#keeping only the first occurrence as \"not duplicate\"\n",
        "#if the same description appears 2 or 3 times, only the second and third occurrences are counted\n",
        "\n",
        "#Total values-description column: 8807\n",
        "\n",
        "#convert description to string\n",
        "df_netflix['description'] = df_netflix['description'].astype(str)\n",
        "\n",
        "#normalize descriptions: strip, replace multiple spaces with single, remove non-breaking spaces\n",
        "df_netflix['description_clean'] = (\n",
        "    df_netflix['description']\n",
        "    .str.strip()                             #remove leading/trailing spaces\n",
        "    .str.replace(r'\\s+', ' ', regex=True)    #normalize multiple spaces to single\n",
        "    .str.replace('\\xa0', '', regex=False)    #remove non-breaking spaces\n",
        ")\n",
        "\n",
        "#drop rows where the title is a date (found out 3 titles where this behavior exists)\n",
        "df_netflix = df_netflix.loc[~df_netflix['title'].isin([\n",
        "    '22 July', '22-Jul',\n",
        "    'February 9', 'Feb-09',\n",
        "    '15 August', '15-Aug'\n",
        "])]\n",
        "\n",
        "#check how many titles in the title column contain the ['22 July', '22-Jul'] type of double pattern\n",
        "#result -> 0\n",
        "\n",
        "#remove '\\xa0' (found out 1 occurence of this behavior -> Titles: ['Consequences', 'Consequences\\xa0'])\n",
        "df_netflix['title_clean'] = df_netflix['title'].str.strip().str.replace('\\xa0', '', regex=False)\n",
        "\n",
        "#find all duplicated cleaned descriptions\n",
        "duplicated_descriptions = df_netflix[df_netflix.duplicated(subset='description_clean', keep=False)]\n",
        "\n",
        "#group by cleaned description and show cleaned titles\n",
        "for desc, group in duplicated_descriptions.groupby('description_clean'):\n",
        "    print(\"Description:\", desc)\n",
        "    print(\"Titles:\", group['title_clean'].tolist())\n",
        "    print(\"-\" * 60)\n",
        "\n",
        "#total duplicated rows -> all rows that share a duplicated description\n",
        "total_dup_rows = duplicated_descriptions.shape[0]\n",
        "\n",
        "#total unique duplicated descriptions\n",
        "unique_dup_desc = duplicated_descriptions['description_clean'].nunique()\n",
        "\n",
        "print(f\"Total duplicated rows: {total_dup_rows}\")\n",
        "print(f\"Unique duplicated descriptions: {unique_dup_desc}\")"
      ],
      "metadata": {
        "colab": {
          "base_uri": "https://localhost:8080/"
        },
        "id": "70X60vB5CI4A",
        "outputId": "5431a452-81eb-41f1-96a5-d002f8102fbe"
      },
      "execution_count": 93,
      "outputs": [
        {
          "output_type": "stream",
          "name": "stdout",
          "text": [
            "Description: A budding politician has devious plans to rise in the ranks — until an unexpected new presence begins to interfere with his every crooked move.\n",
            "Titles: ['Tughlaq Durbar', 'Tughlaq Durbar (Telugu)']\n",
            "------------------------------------------------------------\n",
            "Description: A scheming matriarch plots to cut off her disabled stepson and his wife from the family fortune, creating a division within the clan.\n",
            "Titles: ['Together For Eternity', 'Hum Saath-Saath Hain']\n",
            "------------------------------------------------------------\n",
            "Description: A surly septuagenarian gets another chance at her 20s after having her photo snapped at a studio that magically takes 50 years off her life.\n",
            "Titles: ['Oh! Baby (Malayalam)', 'Oh! Baby (Tamil)', 'Oh! Baby']\n",
            "------------------------------------------------------------\n",
            "Description: A young Han Solo tries to settle an old score with the help of his new buddy Chewbacca, a crew of space smugglers and a cunning old friend.\n",
            "Titles: ['Solo: A Star Wars Story', 'Solo: A Star Wars Story (Spanish Version)']\n",
            "------------------------------------------------------------\n",
            "Description: After growing up enduring criticism from his father, a young man finds his world shaken upon learning he was switched at birth with a millionaire’s son.\n",
            "Titles: ['Angu Vaikuntapurathu (Malayalam)', 'Ala Vaikunthapurramuloo']\n",
            "------------------------------------------------------------\n",
            "Description: An affable, newly appointed college warden proves to be no ordinary man when an old enemy resurfaces and exposes his complicated, violent past.\n",
            "Titles: ['Petta (Telugu Version)', 'Petta']\n",
            "------------------------------------------------------------\n",
            "Description: An aspiring musician battles age-old caste divides to be able to learn the art of a classical instrument from a traditionalist, veteran percussionist.\n",
            "Titles: ['Sarvam Thaala Mayam (Telugu Version)', 'Sarvam Thaala Mayam (Tamil Version)']\n",
            "------------------------------------------------------------\n",
            "Description: As a blind librarian, dispirited cricketer and desolate psychiatrist each seek retribution and release, their lives overlap under eerie influences.\n",
            "Titles: ['Andhaghaaram', 'Andhakaaram']\n",
            "------------------------------------------------------------\n",
            "Description: As a series of murders hit close to home, a video game designer with post-traumatic stress must confront her demons, or risk becoming their victim.\n",
            "Titles: ['Game Over (Hindi Version)', 'Game Over (Tamil Version)']\n",
            "------------------------------------------------------------\n",
            "Description: As a woman scours Hyderabad for her missing husband, she becomes entangled in a conspiracy that suggests there’s more to the mystery than meets the eye.\n",
            "Titles: ['Anaamika', 'Nee Enge En Anbe']\n",
            "------------------------------------------------------------\n",
            "Description: Born into a small town controlled by the mafia, an irate young woman seeks revenge on the forces that tore apart and wrongfully imprisoned her family.\n",
            "Titles: ['Sin senos sí hay paraíso', 'Sin Senos sí Hay Paraíso']\n",
            "------------------------------------------------------------\n",
            "Description: Challenged to compose 100 songs before he can marry the girl he loves, a tortured but passionate singer-songwriter embarks on a poignant musical journey.\n",
            "Titles: ['99 Songs', '99 Songs (Tamil)', '99 Songs (Telugu)']\n",
            "------------------------------------------------------------\n",
            "Description: Cora has three sons and a daughter and she´s almost 80. One day during a family reunion the big question comes up: who will be her heir?\n",
            "Titles: ['Esperando la carroza', 'Esperando La Carroza']\n",
            "------------------------------------------------------------\n",
            "Description: From controversial cartoonist to powerful Mumbai politician, this biopic maps the meteoric rise of far-right Shiv Sena party founder, Bal Thackeray.\n",
            "Titles: ['Thackeray (Hindi)', 'Thackeray']\n",
            "------------------------------------------------------------\n",
            "Description: Mistakenly accused of an attack on the Fourth Raikage, ninja Naruto is imprisoned in the impenetrable Hozuki Castle and his powers are sealed.\n",
            "Titles: ['Naruto Shippuden the Movie: Blood Prison', 'Naruto Shippuden : Blood Prison']\n",
            "------------------------------------------------------------\n",
            "Description: Multiple women report their husbands as missing but when it appears they are looking for the same man, a police officer traces their cryptic connection.\n",
            "Titles: ['Seven (Tamil)', 'Seven (Telugu)', '7 (Seven)']\n",
            "------------------------------------------------------------\n",
            "Description: Paranormal activity at a lush, abandoned property alarms a group eager to redevelop the site, but the eerie events may not be as unearthly as they think.\n",
            "Titles: ['Boomika', 'Boomika (Hindi)', 'Boomika (Malayalam)', 'Boomika (Telugu)']\n",
            "------------------------------------------------------------\n",
            "Description: Secrets bubble to the surface after a sensual encounter and an unforeseen crime entangle two friends and a woman caught between them.\n",
            "Titles: ['Consequences', 'Consequences']\n",
            "------------------------------------------------------------\n",
            "Description: The Great Dog Demon beaqueathed one of the Three Swords of the Fang to each of his two sons. Now the evil power of the third sword has been awakened.\n",
            "Titles: ['InuYasha the Movie 3: Swords of an Honorable Ruler', 'Inuyasha the Movie - La spada del dominatore del mondo']\n",
            "------------------------------------------------------------\n",
            "Description: This educational series for tiny tots features a toe-tapping spin on nursery rhymes with upbeat tunes and a diverse set of easy-to-follow lessons.\n",
            "Titles: ['ChuChu TV Nursery Rhymes & Kids Songs (Hindi)', 'ChuChu TV Kids Songs, Learning Videos & Bedtime Stories']\n",
            "------------------------------------------------------------\n",
            "Description: Two quirky cats, Ollie and Moon, and their friend Stanley the snail travel the world, solving everyday problems and learning about different cultures.\n",
            "Titles: ['The Ollie & Moon Show', 'Ollie & Moon']\n",
            "------------------------------------------------------------\n",
            "Description: When Elastigirl gets recruited for a high-profile crime-fighting mission, Mr. Incredible takes on his toughest assignment ever: full-time parenting.\n",
            "Titles: ['Incredibles 2 (Spanish Version)', 'The Incredibles 2']\n",
            "------------------------------------------------------------\n",
            "Description: When pretty new neighbor Seema falls for their shy roommate Sid, jealous womanizers Omi and Jai plot to break up the new lovebirds.\n",
            "Titles: ['Chashme Baddoor', 'Chashme Buddoor']\n",
            "------------------------------------------------------------\n",
            "Description: With their biggest foe seemingly defeated, InuYasha and his friends return to everyday life. But the peace is soon shattered by an emerging new enemy.\n",
            "Titles: ['InuYasha the Movie 2: The Castle Beyond the Looking Glass', 'InuYasha: The Movie 2: The Castle Beyond the Looking Glass']\n",
            "------------------------------------------------------------\n",
            "Total duplicated rows: 53\n",
            "Unique duplicated descriptions: 24\n"
          ]
        }
      ]
    },
    {
      "cell_type": "markdown",
      "source": [
        "##Data Visualization"
      ],
      "metadata": {
        "id": "mHm8KjdvlXwM"
      }
    },
    {
      "cell_type": "code",
      "source": [
        "#show_id column -> we don't need to plot after show_id column because each value is unique\n",
        "\n",
        "show_id_counts = df_netflix['show_id'].value_counts().head(5)  #top 5 most common show_ids\n",
        "print(show_id_counts)"
      ],
      "metadata": {
        "colab": {
          "base_uri": "https://localhost:8080/"
        },
        "id": "xPoyd16RlkH_",
        "outputId": "fec58add-a1ea-4d6f-aa58-92a8c76123da"
      },
      "execution_count": 94,
      "outputs": [
        {
          "output_type": "stream",
          "name": "stdout",
          "text": [
            "show_id\n",
            "s8807    1\n",
            "s8791    1\n",
            "s8790    1\n",
            "s8789    1\n",
            "s8788    1\n",
            "Name: count, dtype: int64\n"
          ]
        }
      ]
    },
    {
      "cell_type": "code",
      "source": [
        "#type column -> this column stores only 2 values, 'Movie' & 'TV Show'\n",
        "\n",
        "type_counts = df_netflix['type'].value_counts().head(2)  #the 2 types\n",
        "print(type_counts)\n",
        "\n",
        "import matplotlib.pyplot as plt\n",
        "\n",
        "plt.figure(figsize=(10, 10))\n",
        "type_counts.plot(kind='pie', autopct='%1.1f%%', startangle=90, pctdistance=0.85, legend=False)\n",
        "plt.title('The 2 types of Netflix content')\n",
        "plt.ylabel('')\n",
        "plt.tight_layout()\n",
        "plt.show()"
      ],
      "metadata": {
        "colab": {
          "base_uri": "https://localhost:8080/",
          "height": 865
        },
        "id": "vdQo6g5_mtQC",
        "outputId": "c3619f4b-9f04-4adc-c542-ffeff26609c2"
      },
      "execution_count": 95,
      "outputs": [
        {
          "output_type": "stream",
          "name": "stdout",
          "text": [
            "type\n",
            "Movie      6127\n",
            "TV Show    2674\n",
            "Name: count, dtype: int64\n"
          ]
        },
        {
          "output_type": "display_data",
          "data": {
            "text/plain": [
              "<Figure size 1000x1000 with 1 Axes>"
            ],
            "image/png": "[encoded data removed]"
          },
          "metadata": {}
        }
      ]
    },
    {
      "cell_type": "code",
      "source": [
        "#title column -> we don't need to plot after title column because each value is unique\n",
        "\n",
        "title_counts = df_netflix['title'].value_counts().head(5)  #top 5 most common titles\n",
        "print(title_counts)"
      ],
      "metadata": {
        "colab": {
          "base_uri": "https://localhost:8080/"
        },
        "id": "Iqv6JK80nzOA",
        "outputId": "2517aa3e-50c6-429e-e3c4-aafd87072356"
      },
      "execution_count": 96,
      "outputs": [
        {
          "output_type": "stream",
          "name": "stdout",
          "text": [
            "title\n",
            "Zubaan                           1\n",
            "You Don't Mess with the Zohan    1\n",
            "You Changed My Life              1\n",
            "You Carry Me                     1\n",
            "You Can’t Fight Christmas        1\n",
            "Name: count, dtype: int64\n"
          ]
        }
      ]
    },
    {
      "cell_type": "code",
      "source": [
        "#director column\n",
        "\n",
        "#split directors into lists, strip spaces, and stack into a single column\n",
        "#I want only one director/row\n",
        "#example -> 'Alastair Fothergill, Jonnie Hughes, Keith Scholey' -> this row stores 3 directors\n",
        "director_single = df_netflix['director'].astype(str).str.split(',').apply(pd.Series).stack().str.strip()\n",
        "\n",
        "#convert back to a dataframe with the same column name\n",
        "df_directors = director_single.reset_index(drop=True).to_frame(name='director_single')\n",
        "\n",
        "#top 5 most common directors\n",
        "director_counts = df_directors['director_single'].value_counts().head(5)\n",
        "print(director_counts)\n",
        "\n",
        "#plot after the new column\n",
        "plt.figure(figsize=(12, 6))\n",
        "director_counts.plot(kind='bar', color='lightcoral')\n",
        "plt.title('Top 5 Most Common Directors')\n",
        "plt.xlabel('Directors')\n",
        "plt.ylabel('Number of Occurrences')\n",
        "plt.xticks(rotation=75, ha='right')\n",
        "plt.tight_layout()\n",
        "plt.show()"
      ],
      "metadata": {
        "colab": {
          "base_uri": "https://localhost:8080/",
          "height": 516
        },
        "id": "t0Nf_U4NoJQ-",
        "outputId": "d17d1369-cf58-41ab-8a70-736b088a1013"
      },
      "execution_count": 97,
      "outputs": [
        {
          "output_type": "stream",
          "name": "stdout",
          "text": [
            "director_single\n",
            "nan              2632\n",
            "Rajiv Chilaka      22\n",
            "Jan Suter          21\n",
            "Raúl Campos        19\n",
            "Marcus Raboy       16\n",
            "Name: count, dtype: int64\n"
          ]
        },
        {
          "output_type": "display_data",
          "data": {
            "text/plain": [
              "<Figure size 1200x600 with 1 Axes>"
            ],
            "image/png": "[encoded data removed]"
          },
          "metadata": {}
        }
      ]
    },
    {
      "cell_type": "code",
      "source": [
        "#cast column\n",
        "\n",
        "#split cast members into lists, strip spaces, and stack into a single column\n",
        "#I want only one cast member/row\n",
        "#example -> 'Prashanth, Aishwarya Rai Bachchan, Sri Lakshmi, Nassar'\n",
        "#-> the row above stores 4 cast members\n",
        "c_member_single = df_netflix['cast'].astype(str).str.split(',').apply(pd.Series).stack().str.strip()\n",
        "\n",
        "#convert back to a dataframe with the same column name\n",
        "df_c_members = c_member_single.reset_index(drop=True).to_frame(name='c_member_single')\n",
        "\n",
        "#top 5 most common cast members\n",
        "c_member_counts = df_c_members['c_member_single'].value_counts().head(5)\n",
        "print(c_member_counts)\n",
        "\n",
        "#plot after the new column\n",
        "plt.figure(figsize=(12, 6))\n",
        "c_member_counts.plot(kind='bar', color='lightcoral')\n",
        "plt.title('Top 5 Most Common Cast Members')\n",
        "plt.xlabel('Cast Members')\n",
        "plt.ylabel('Number of Occurrences')\n",
        "plt.xticks(rotation=75, ha='right')\n",
        "plt.tight_layout()\n",
        "plt.show()"
      ],
      "metadata": {
        "colab": {
          "base_uri": "https://localhost:8080/",
          "height": 516
        },
        "id": "e8gn5bA8THRq",
        "outputId": "d8da9f15-3afc-4b80-b277-c844e09d5148"
      },
      "execution_count": 98,
      "outputs": [
        {
          "output_type": "stream",
          "name": "stdout",
          "text": [
            "c_member_single\n",
            "nan                 825\n",
            "Anupam Kher          43\n",
            "Shah Rukh Khan       35\n",
            "Julie Tejwani        33\n",
            "Takahiro Sakurai     32\n",
            "Name: count, dtype: int64\n"
          ]
        },
        {
          "output_type": "display_data",
          "data": {
            "text/plain": [
              "<Figure size 1200x600 with 1 Axes>"
            ],
            "image/png": "[encoded data removed]"
          },
          "metadata": {}
        }
      ]
    }
  ]
}